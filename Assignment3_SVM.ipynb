{
  "cells": [
    {
      "cell_type": "markdown",
      "id": "79e7f91b-665d-4c46-95db-ea1190fec2f5",
      "metadata": {
        "nbgrader": {
          "grade": false,
          "grade_id": "cell-86e878fd0d037967",
          "locked": true,
          "schema_version": 3,
          "solution": false,
          "task": false
        },
        "tags": [],
        "id": "79e7f91b-665d-4c46-95db-ea1190fec2f5"
      },
      "source": [
        "# Machine Learning\n",
        "# Assignment 3: SVM"
      ]
    },
    {
      "cell_type": "markdown",
      "id": "6ac97729-90de-4fcf-9575-05f7bbe055c9",
      "metadata": {
        "id": "6ac97729-90de-4fcf-9575-05f7bbe055c9"
      },
      "source": [
        "Please write your full name here\n",
        "- **Name** : \"Hasnaa Hossam Hassanein\""
      ]
    },
    {
      "cell_type": "markdown",
      "id": "94e20f76-33ab-4fed-9e22-ab90df7d4de0",
      "metadata": {
        "tags": [],
        "id": "94e20f76-33ab-4fed-9e22-ab90df7d4de0"
      },
      "source": [
        "## Instructions\n",
        "- Please place your code where you're asked to. Do not change any other code.\n",
        "- Submit the notebook with your solutions and keep the cell outputs.\n",
        "- Please name your notebook in the following format \"assignment3_FirstnameLastname.ipynb\"\n",
        "- Late submissions will be penalized."
      ]
    },
    {
      "cell_type": "code",
      "execution_count": 182,
      "id": "643e7732-dd96-47df-854f-007ec5d5e10c",
      "metadata": {
        "id": "643e7732-dd96-47df-854f-007ec5d5e10c"
      },
      "outputs": [],
      "source": [
        "import numpy as np\n",
        "from matplotlib.colors import ListedColormap\n",
        "import matplotlib.pyplot as plt"
      ]
    },
    {
      "cell_type": "markdown",
      "id": "ce7b0851-a39c-4b17-99f6-a0d404a2577e",
      "metadata": {
        "id": "ce7b0851-a39c-4b17-99f6-a0d404a2577e"
      },
      "source": [
        "### Use the following function to plot the classification regions"
      ]
    },
    {
      "cell_type": "code",
      "execution_count": 183,
      "id": "8b776233-2fdd-4034-9c72-688869cdedc1",
      "metadata": {
        "id": "8b776233-2fdd-4034-9c72-688869cdedc1"
      },
      "outputs": [],
      "source": [
        "def plot_class_regions_for_classifier(clf, X, y, X_test=None, y_test=None, title=None, target_names = None, plot_decision_regions = True):\n",
        "\n",
        "    numClasses = np.amax(y) + 1\n",
        "    color_list_light = ['#FFFFAA', '#EFEFEF', '#AAFFAA', '#AAAAFF']\n",
        "    color_list_bold = ['#EEEE00', '#000000', '#00CC00', '#0000CC']\n",
        "    cmap_light = ListedColormap(color_list_light[0:numClasses])\n",
        "    cmap_bold  = ListedColormap(color_list_bold[0:numClasses])\n",
        "\n",
        "    h = 0.03\n",
        "    k = 0.5\n",
        "    x_plot_adjust = 0.1\n",
        "    y_plot_adjust = 0.1\n",
        "    plot_symbol_size = 50\n",
        "\n",
        "    x_min = X[:, 0].min()\n",
        "    x_max = X[:, 0].max()\n",
        "    y_min = X[:, 1].min()\n",
        "    y_max = X[:, 1].max()\n",
        "    x2, y2 = np.meshgrid(np.arange(x_min-k, x_max+k, h), np.arange(y_min-k, y_max+k, h))\n",
        "    # np.c_ Translates slice objects to concatenation along the second axis\n",
        "    # e.g. np.c_[np.array([[1,2,3]]), 0, 0, np.array([[4,5,6]])]\n",
        "    # ravel() Returns a contiguous flattened array.\n",
        "    # x = np.array([[1, 2, 3], [4, 5, 6]])\n",
        "    # np.ravel(x) = [1 2 3 4 5 6]\n",
        "    P = clf.predict(np.c_[x2.ravel(), y2.ravel()])\n",
        "    P = P.reshape(x2.shape)\n",
        "    plt.figure()\n",
        "    if plot_decision_regions:\n",
        "        plt.contourf(x2, y2, P, cmap=cmap_light, alpha = 0.8)\n",
        "\n",
        "    plt.scatter(X[:, 0], X[:, 1], c=y, cmap=cmap_bold, s=plot_symbol_size, edgecolor = 'black')\n",
        "    plt.xlim(x_min - x_plot_adjust, x_max + x_plot_adjust)\n",
        "    plt.ylim(y_min - y_plot_adjust, y_max + y_plot_adjust)\n",
        "\n",
        "    if (X_test is not None):\n",
        "        plt.scatter(X_test[:, 0], X_test[:, 1], c=y_test, cmap=cmap_bold, s=plot_symbol_size, marker='^', edgecolor = 'black')\n",
        "        train_score = clf.score(X, y)\n",
        "        test_score  = clf.score(X_test, y_test)\n",
        "        title = title + \"\\nTrain score = {:.2f}, Test score = {:.2f}\".format(train_score, test_score)\n",
        "\n",
        "    if (target_names is not None):\n",
        "        legend_handles = []\n",
        "        for i in range(0, len(target_names)):\n",
        "            patch = mpatches.Patch(color=color_list_bold[i], label=target_names[i])\n",
        "            legend_handles.append(patch)\n",
        "        plt.legend(loc=0, handles=legend_handles)\n",
        "\n",
        "    if (title is not None):\n",
        "        plt.title(title)\n",
        "    plt.show()"
      ]
    },
    {
      "cell_type": "markdown",
      "id": "164ced46-3aab-4bb3-8be1-ce62dfbd841d",
      "metadata": {
        "id": "164ced46-3aab-4bb3-8be1-ce62dfbd841d"
      },
      "source": [
        "### Use the following dataset in questions 1, 2, and 3."
      ]
    },
    {
      "cell_type": "code",
      "execution_count": 184,
      "id": "99970010-3f35-42b7-8ae5-39e0b905db3e",
      "metadata": {
        "id": "99970010-3f35-42b7-8ae5-39e0b905db3e"
      },
      "outputs": [],
      "source": [
        "from sklearn.datasets import make_classification\n",
        "\n",
        "X, y = make_classification(n_samples = 100, n_features=2,\n",
        "                                n_redundant=0, n_informative=2,\n",
        "                                n_clusters_per_class=1, flip_y = 0.1,\n",
        "                                class_sep = 0.5, random_state=0)"
      ]
    },
    {
      "cell_type": "markdown",
      "id": "c4ec298b-d4af-467f-8379-cad0c7704fbf",
      "metadata": {
        "id": "c4ec298b-d4af-467f-8379-cad0c7704fbf"
      },
      "source": [
        "#### Question 1\n",
        "Split the data into training and testing datasets (use random_state=0 and 25% of the data for testing)"
      ]
    },
    {
      "cell_type": "code",
      "execution_count": 185,
      "id": "70a204f4-9316-4b45-8ccd-18614a4fd61c",
      "metadata": {
        "id": "70a204f4-9316-4b45-8ccd-18614a4fd61c"
      },
      "outputs": [],
      "source": [
        "from sklearn.model_selection import train_test_split\n",
        "X_train, X_test, y_train, y_test = train_test_split(X, y, test_size=0.25, random_state=0)"
      ]
    },
    {
      "cell_type": "markdown",
      "id": "ef0f7835-a714-4bfc-92ed-6eab6a6e24f0",
      "metadata": {
        "id": "ef0f7835-a714-4bfc-92ed-6eab6a6e24f0"
      },
      "source": [
        "#### Question 2\n",
        "1. Train an SVM classifier using linear kernel.\n",
        "2. Plot the classification regions using the training dataset."
      ]
    },
    {
      "cell_type": "code",
      "execution_count": 186,
      "id": "82b7faaf-35fa-4993-aedd-9cd083657726",
      "metadata": {
        "colab": {
          "base_uri": "https://localhost:8080/",
          "height": 430
        },
        "id": "82b7faaf-35fa-4993-aedd-9cd083657726",
        "outputId": "172f34e0-e94b-4fac-80a3-aa93c65d650c"
      },
      "outputs": [
        {
          "output_type": "display_data",
          "data": {
            "text/plain": [
              "<Figure size 640x480 with 1 Axes>"
            ],
            "image/png": "[encoded data removed]"
          },
          "metadata": {}
        }
      ],
      "source": [
        "from sklearn.svm import SVC\n",
        "\n",
        "svm_model = SVC(kernel='linear')\n",
        "svm_model.fit(X_train, y_train)\n",
        "\n",
        "plot_class_regions_for_classifier(svm_model, X_train, y_train)"
      ]
    },
    {
      "cell_type": "markdown",
      "id": "498f2792-e6fb-46dc-b914-ef6cfe161f17",
      "metadata": {
        "id": "498f2792-e6fb-46dc-b914-ef6cfe161f17"
      },
      "source": [
        "#### Question 3\n",
        "1. Train an SVM classifier using linear kernel with C=0.0001.\n",
        "2. Train another SVM classifier using linear kernel with C=95\n",
        "3. Plot the classification regions for both cases using the training dataset.\n",
        "4. Comment on the results."
      ]
    },
    {
      "cell_type": "code",
      "execution_count": 187,
      "id": "8a31a9d1-90e2-484e-981b-6e103bb3bfe3",
      "metadata": {
        "colab": {
          "base_uri": "https://localhost:8080/",
          "height": 843
        },
        "id": "8a31a9d1-90e2-484e-981b-6e103bb3bfe3",
        "outputId": "b9fb13e6-8f34-429b-e77b-bb04f580aa80"
      },
      "outputs": [
        {
          "output_type": "display_data",
          "data": {
            "text/plain": [
              "<Figure size 640x480 with 1 Axes>"
            ],
            "image/png": "[encoded data removed]"
          },
          "metadata": {}
        },
        {
          "output_type": "display_data",
          "data": {
            "text/plain": [
              "<Figure size 640x480 with 1 Axes>"
            ],
            "image/png": "[encoded data removed]"
          },
          "metadata": {}
        }
      ],
      "source": [
        "svm_model_2 = SVC(kernel='linear', C=0.0001)\n",
        "svm_model_2.fit(X_train, y_train)\n",
        "\n",
        "svm_model_3 = SVC(kernel='linear', C=95)\n",
        "svm_model_3.fit(X_train, y_train)\n",
        "\n",
        "plot_class_regions_for_classifier(svm_model_2, X_train, y_train)\n",
        "plot_class_regions_for_classifier(svm_model_3, X_train, y_train)"
      ]
    },
    {
      "cell_type": "markdown",
      "source": [
        "Comment on the results\n",
        "\n",
        "**C = 0.0001 :** <br>\n",
        "Lower C applies high regulaization. The model priotrizes simplicity and maximize margins between classes. As a result, the model underfits the data, all data is classified as one class only.\n",
        "\n",
        "**C = 95 :** <br>\n",
        " Higher C applies low regulaization. The model focuses in correctly classifing the data rather than maximizing the margins. As a result, The model fits data well."
      ],
      "metadata": {
        "id": "CdW1vxxKv9Nm"
      },
      "id": "CdW1vxxKv9Nm"
    },
    {
      "cell_type": "markdown",
      "id": "aa143670-7f09-474b-b10f-6b22e735a026",
      "metadata": {
        "id": "aa143670-7f09-474b-b10f-6b22e735a026"
      },
      "source": [
        "### Use the fruits dataset in questions 4, 5, 6."
      ]
    },
    {
      "cell_type": "code",
      "source": [
        "from google.colab import drive\n",
        "drive.mount('/content/drive')"
      ],
      "metadata": {
        "colab": {
          "base_uri": "https://localhost:8080/"
        },
        "id": "jyVsHmd6zSmx",
        "outputId": "f255c9bc-689f-4812-da73-ce31e0c42f73"
      },
      "id": "jyVsHmd6zSmx",
      "execution_count": 188,
      "outputs": [
        {
          "output_type": "stream",
          "name": "stdout",
          "text": [
            "Drive already mounted at /content/drive; to attempt to forcibly remount, call drive.mount(\"/content/drive\", force_remount=True).\n"
          ]
        }
      ]
    },
    {
      "cell_type": "code",
      "execution_count": 189,
      "id": "78a7c63d-c3e4-4d70-b5d5-d25685bc9099",
      "metadata": {
        "id": "78a7c63d-c3e4-4d70-b5d5-d25685bc9099"
      },
      "outputs": [],
      "source": [
        "import pandas as pd\n",
        "fruits = pd.read_table('/content/drive/MyDrive/Machine Learning Dr. Inas/fruit_data_with_colors.txt')\n",
        "feature_names_fruits = ['height', 'width', 'mass', 'color_score']"
      ]
    },
    {
      "cell_type": "code",
      "source": [
        "fruits.head(10)"
      ],
      "metadata": {
        "colab": {
          "base_uri": "https://localhost:8080/",
          "height": 363
        },
        "id": "Gi0ON4KYYMZa",
        "outputId": "f95a66b0-f155-41cc-f9f6-2d27f651294c"
      },
      "id": "Gi0ON4KYYMZa",
      "execution_count": 190,
      "outputs": [
        {
          "output_type": "execute_result",
          "data": {
            "text/plain": [
              "   fruit_label fruit_name fruit_subtype  mass  width  height  color_score\n",
              "0            1      apple  granny_smith   192    8.4     7.3         0.55\n",
              "1            1      apple  granny_smith   180    8.0     6.8         0.59\n",
              "2            1      apple  granny_smith   176    7.4     7.2         0.60\n",
              "3            2   mandarin      mandarin    86    6.2     4.7         0.80\n",
              "4            2   mandarin      mandarin    84    6.0     4.6         0.79\n",
              "5            2   mandarin      mandarin    80    5.8     4.3         0.77\n",
              "6            2   mandarin      mandarin    80    5.9     4.3         0.81\n",
              "7            2   mandarin      mandarin    76    5.8     4.0         0.81\n",
              "8            1      apple      braeburn   178    7.1     7.8         0.92\n",
              "9            1      apple      braeburn   172    7.4     7.0         0.89"
            ],
            "text/html": [
              "\n",
              "  <div id=\"df-24c9cb02-8909-493f-9fcc-8fe64b4cb0bf\" class=\"colab-df-container\">\n",
              "    <div>\n",
              "<style scoped>\n",
              "    .dataframe tbody tr th:only-of-type {\n",
              "        vertical-align: middle;\n",
              "    }\n",
              "\n",
              "    .dataframe tbody tr th {\n",
              "        vertical-align: top;\n",
              "    }\n",
              "\n",
              "    .dataframe thead th {\n",
              "        text-align: right;\n",
              "    }\n",
              "</style>\n",
              "<table border=\"1\" class=\"dataframe\">\n",
              "  <thead>\n",
              "    <tr style=\"text-align: right;\">\n",
              "      <th></th>\n",
              "      <th>fruit_label</th>\n",
              "      <th>fruit_name</th>\n",
              "      <th>fruit_subtype</th>\n",
              "      <th>mass</th>\n",
              "      <th>width</th>\n",
              "      <th>height</th>\n",
              "      <th>color_score</th>\n",
              "    </tr>\n",
              "  </thead>\n",
              "  <tbody>\n",
              "    <tr>\n",
              "      <th>0</th>\n",
              "      <td>1</td>\n",
              "      <td>apple</td>\n",
              "      <td>granny_smith</td>\n",
              "      <td>192</td>\n",
              "      <td>8.4</td>\n",
              "      <td>7.3</td>\n",
              "      <td>0.55</td>\n",
              "    </tr>\n",
              "    <tr>\n",
              "      <th>1</th>\n",
              "      <td>1</td>\n",
              "      <td>apple</td>\n",
              "      <td>granny_smith</td>\n",
              "      <td>180</td>\n",
              "      <td>8.0</td>\n",
              "      <td>6.8</td>\n",
              "      <td>0.59</td>\n",
              "    </tr>\n",
              "    <tr>\n",
              "      <th>2</th>\n",
              "      <td>1</td>\n",
              "      <td>apple</td>\n",
              "      <td>granny_smith</td>\n",
              "      <td>176</td>\n",
              "      <td>7.4</td>\n",
              "      <td>7.2</td>\n",
              "      <td>0.60</td>\n",
              "    </tr>\n",
              "    <tr>\n",
              "      <th>3</th>\n",
              "      <td>2</td>\n",
              "      <td>mandarin</td>\n",
              "      <td>mandarin</td>\n",
              "      <td>86</td>\n",
              "      <td>6.2</td>\n",
              "      <td>4.7</td>\n",
              "      <td>0.80</td>\n",
              "    </tr>\n",
              "    <tr>\n",
              "      <th>4</th>\n",
              "      <td>2</td>\n",
              "      <td>mandarin</td>\n",
              "      <td>mandarin</td>\n",
              "      <td>84</td>\n",
              "      <td>6.0</td>\n",
              "      <td>4.6</td>\n",
              "      <td>0.79</td>\n",
              "    </tr>\n",
              "    <tr>\n",
              "      <th>5</th>\n",
              "      <td>2</td>\n",
              "      <td>mandarin</td>\n",
              "      <td>mandarin</td>\n",
              "      <td>80</td>\n",
              "      <td>5.8</td>\n",
              "      <td>4.3</td>\n",
              "      <td>0.77</td>\n",
              "    </tr>\n",
              "    <tr>\n",
              "      <th>6</th>\n",
              "      <td>2</td>\n",
              "      <td>mandarin</td>\n",
              "      <td>mandarin</td>\n",
              "      <td>80</td>\n",
              "      <td>5.9</td>\n",
              "      <td>4.3</td>\n",
              "      <td>0.81</td>\n",
              "    </tr>\n",
              "    <tr>\n",
              "      <th>7</th>\n",
              "      <td>2</td>\n",
              "      <td>mandarin</td>\n",
              "      <td>mandarin</td>\n",
              "      <td>76</td>\n",
              "      <td>5.8</td>\n",
              "      <td>4.0</td>\n",
              "      <td>0.81</td>\n",
              "    </tr>\n",
              "    <tr>\n",
              "      <th>8</th>\n",
              "      <td>1</td>\n",
              "      <td>apple</td>\n",
              "      <td>braeburn</td>\n",
              "      <td>178</td>\n",
              "      <td>7.1</td>\n",
              "      <td>7.8</td>\n",
              "      <td>0.92</td>\n",
              "    </tr>\n",
              "    <tr>\n",
              "      <th>9</th>\n",
              "      <td>1</td>\n",
              "      <td>apple</td>\n",
              "      <td>braeburn</td>\n",
              "      <td>172</td>\n",
              "      <td>7.4</td>\n",
              "      <td>7.0</td>\n",
              "      <td>0.89</td>\n",
              "    </tr>\n",
              "  </tbody>\n",
              "</table>\n",
              "</div>\n",
              "    <div class=\"colab-df-buttons\">\n",
              "\n",
              "  <div class=\"colab-df-container\">\n",
              "    <button class=\"colab-df-convert\" onclick=\"convertToInteractive('df-24c9cb02-8909-493f-9fcc-8fe64b4cb0bf')\"\n",
              "            title=\"Convert this dataframe to an interactive table.\"\n",
              "            style=\"display:none;\">\n",
              "\n",
              "  <svg xmlns=\"http://www.w3.org/2000/svg\" height=\"24px\" viewBox=\"0 -960 960 960\">\n",
              "    <path d=\"M120-120v-720h720v720H120Zm60-500h600v-160H180v160Zm220 220h160v-160H400v160Zm0 220h160v-160H400v160ZM180-400h160v-160H180v160Zm440 0h160v-160H620v160ZM180-180h160v-160H180v160Zm440 0h160v-160H620v160Z\"/>\n",
              "  </svg>\n",
              "    </button>\n",
              "\n",
              "  <style>\n",
              "    .colab-df-container {\n",
              "      display:flex;\n",
              "      gap: 12px;\n",
              "    }\n",
              "\n",
              "    .colab-df-convert {\n",
              "      background-color: #E8F0FE;\n",
              "      border: none;\n",
              "      border-radius: 50%;\n",
              "      cursor: pointer;\n",
              "      display: none;\n",
              "      fill: #1967D2;\n",
              "      height: 32px;\n",
              "      padding: 0 0 0 0;\n",
              "      width: 32px;\n",
              "    }\n",
              "\n",
              "    .colab-df-convert:hover {\n",
              "      background-color: #E2EBFA;\n",
              "      box-shadow: 0px 1px 2px rgba(60, 64, 67, 0.3), 0px 1px 3px 1px rgba(60, 64, 67, 0.15);\n",
              "      fill: #174EA6;\n",
              "    }\n",
              "\n",
              "    .colab-df-buttons div {\n",
              "      margin-bottom: 4px;\n",
              "    }\n",
              "\n",
              "    [theme=dark] .colab-df-convert {\n",
              "      background-color: #3B4455;\n",
              "      fill: #D2E3FC;\n",
              "    }\n",
              "\n",
              "    [theme=dark] .colab-df-convert:hover {\n",
              "      background-color: #434B5C;\n",
              "      box-shadow: 0px 1px 3px 1px rgba(0, 0, 0, 0.15);\n",
              "      filter: drop-shadow(0px 1px 2px rgba(0, 0, 0, 0.3));\n",
              "      fill: #FFFFFF;\n",
              "    }\n",
              "  </style>\n",
              "\n",
              "    <script>\n",
              "      const buttonEl =\n",
              "        document.querySelector('#df-24c9cb02-8909-493f-9fcc-8fe64b4cb0bf button.colab-df-convert');\n",
              "      buttonEl.style.display =\n",
              "        google.colab.kernel.accessAllowed ? 'block' : 'none';\n",
              "\n",
              "      async function convertToInteractive(key) {\n",
              "        const element = document.querySelector('#df-24c9cb02-8909-493f-9fcc-8fe64b4cb0bf');\n",
              "        const dataTable =\n",
              "          await google.colab.kernel.invokeFunction('convertToInteractive',\n",
              "                                                    [key], {});\n",
              "        if (!dataTable) return;\n",
              "\n",
              "        const docLinkHtml = 'Like what you see? Visit the ' +\n",
              "          '<a target=\"_blank\" href=https://colab.research.google.com/notebooks/data_table.ipynb>data table notebook</a>'\n",
              "          + ' to learn more about interactive tables.';\n",
              "        element.innerHTML = '';\n",
              "        dataTable['output_type'] = 'display_data';\n",
              "        await google.colab.output.renderOutput(dataTable, element);\n",
              "        const docLink = document.createElement('div');\n",
              "        docLink.innerHTML = docLinkHtml;\n",
              "        element.appendChild(docLink);\n",
              "      }\n",
              "    </script>\n",
              "  </div>\n",
              "\n",
              "\n",
              "<div id=\"df-2a58310c-8e02-4e93-b2cf-d16343632cbc\">\n",
              "  <button class=\"colab-df-quickchart\" onclick=\"quickchart('df-2a58310c-8e02-4e93-b2cf-d16343632cbc')\"\n",
              "            title=\"Suggest charts\"\n",
              "            style=\"display:none;\">\n",
              "\n",
              "<svg xmlns=\"http://www.w3.org/2000/svg\" height=\"24px\"viewBox=\"0 0 24 24\"\n",
              "     width=\"24px\">\n",
              "    <g>\n",
              "        <path d=\"M19 3H5c-1.1 0-2 .9-2 2v14c0 1.1.9 2 2 2h14c1.1 0 2-.9 2-2V5c0-1.1-.9-2-2-2zM9 17H7v-7h2v7zm4 0h-2V7h2v10zm4 0h-2v-4h2v4z\"/>\n",
              "    </g>\n",
              "</svg>\n",
              "  </button>\n",
              "\n",
              "<style>\n",
              "  .colab-df-quickchart {\n",
              "      --bg-color: #E8F0FE;\n",
              "      --fill-color: #1967D2;\n",
              "      --hover-bg-color: #E2EBFA;\n",
              "      --hover-fill-color: #174EA6;\n",
              "      --disabled-fill-color: #AAA;\n",
              "      --disabled-bg-color: #DDD;\n",
              "  }\n",
              "\n",
              "  [theme=dark] .colab-df-quickchart {\n",
              "      --bg-color: #3B4455;\n",
              "      --fill-color: #D2E3FC;\n",
              "      --hover-bg-color: #434B5C;\n",
              "      --hover-fill-color: #FFFFFF;\n",
              "      --disabled-bg-color: #3B4455;\n",
              "      --disabled-fill-color: #666;\n",
              "  }\n",
              "\n",
              "  .colab-df-quickchart {\n",
              "    background-color: var(--bg-color);\n",
              "    border: none;\n",
              "    border-radius: 50%;\n",
              "    cursor: pointer;\n",
              "    display: none;\n",
              "    fill: var(--fill-color);\n",
              "    height: 32px;\n",
              "    padding: 0;\n",
              "    width: 32px;\n",
              "  }\n",
              "\n",
              "  .colab-df-quickchart:hover {\n",
              "    background-color: var(--hover-bg-color);\n",
              "    box-shadow: 0 1px 2px rgba(60, 64, 67, 0.3), 0 1px 3px 1px rgba(60, 64, 67, 0.15);\n",
              "    fill: var(--button-hover-fill-color);\n",
              "  }\n",
              "\n",
              "  .colab-df-quickchart-complete:disabled,\n",
              "  .colab-df-quickchart-complete:disabled:hover {\n",
              "    background-color: var(--disabled-bg-color);\n",
              "    fill: var(--disabled-fill-color);\n",
              "    box-shadow: none;\n",
              "  }\n",
              "\n",
              "  .colab-df-spinner {\n",
              "    border: 2px solid var(--fill-color);\n",
              "    border-color: transparent;\n",
              "    border-bottom-color: var(--fill-color);\n",
              "    animation:\n",
              "      spin 1s steps(1) infinite;\n",
              "  }\n",
              "\n",
              "  @keyframes spin {\n",
              "    0% {\n",
              "      border-color: transparent;\n",
              "      border-bottom-color: var(--fill-color);\n",
              "      border-left-color: var(--fill-color);\n",
              "    }\n",
              "    20% {\n",
              "      border-color: transparent;\n",
              "      border-left-color: var(--fill-color);\n",
              "      border-top-color: var(--fill-color);\n",
              "    }\n",
              "    30% {\n",
              "      border-color: transparent;\n",
              "      border-left-color: var(--fill-color);\n",
              "      border-top-color: var(--fill-color);\n",
              "      border-right-color: var(--fill-color);\n",
              "    }\n",
              "    40% {\n",
              "      border-color: transparent;\n",
              "      border-right-color: var(--fill-color);\n",
              "      border-top-color: var(--fill-color);\n",
              "    }\n",
              "    60% {\n",
              "      border-color: transparent;\n",
              "      border-right-color: var(--fill-color);\n",
              "    }\n",
              "    80% {\n",
              "      border-color: transparent;\n",
              "      border-right-color: var(--fill-color);\n",
              "      border-bottom-color: var(--fill-color);\n",
              "    }\n",
              "    90% {\n",
              "      border-color: transparent;\n",
              "      border-bottom-color: var(--fill-color);\n",
              "    }\n",
              "  }\n",
              "</style>\n",
              "\n",
              "  <script>\n",
              "    async function quickchart(key) {\n",
              "      const quickchartButtonEl =\n",
              "        document.querySelector('#' + key + ' button');\n",
              "      quickchartButtonEl.disabled = true;  // To prevent multiple clicks.\n",
              "      quickchartButtonEl.classList.add('colab-df-spinner');\n",
              "      try {\n",
              "        const charts = await google.colab.kernel.invokeFunction(\n",
              "            'suggestCharts', [key], {});\n",
              "      } catch (error) {\n",
              "        console.error('Error during call to suggestCharts:', error);\n",
              "      }\n",
              "      quickchartButtonEl.classList.remove('colab-df-spinner');\n",
              "      quickchartButtonEl.classList.add('colab-df-quickchart-complete');\n",
              "    }\n",
              "    (() => {\n",
              "      let quickchartButtonEl =\n",
              "        document.querySelector('#df-2a58310c-8e02-4e93-b2cf-d16343632cbc button');\n",
              "      quickchartButtonEl.style.display =\n",
              "        google.colab.kernel.accessAllowed ? 'block' : 'none';\n",
              "    })();\n",
              "  </script>\n",
              "</div>\n",
              "\n",
              "    </div>\n",
              "  </div>\n"
            ],
            "application/vnd.google.colaboratory.intrinsic+json": {
              "type": "dataframe",
              "variable_name": "fruits",
              "summary": "{\n  \"name\": \"fruits\",\n  \"rows\": 59,\n  \"fields\": [\n    {\n      \"column\": \"fruit_label\",\n      \"properties\": {\n        \"dtype\": \"number\",\n        \"std\": 1,\n        \"min\": 1,\n        \"max\": 4,\n        \"num_unique_values\": 4,\n        \"samples\": [\n          2,\n          4,\n          1\n        ],\n        \"semantic_type\": \"\",\n        \"description\": \"\"\n      }\n    },\n    {\n      \"column\": \"fruit_name\",\n      \"properties\": {\n        \"dtype\": \"category\",\n        \"num_unique_values\": 4,\n        \"samples\": [\n          \"mandarin\",\n          \"lemon\",\n          \"apple\"\n        ],\n        \"semantic_type\": \"\",\n        \"description\": \"\"\n      }\n    },\n    {\n      \"column\": \"fruit_subtype\",\n      \"properties\": {\n        \"dtype\": \"category\",\n        \"num_unique_values\": 10,\n        \"samples\": [\n          \"spanish_belsan\",\n          \"mandarin\",\n          \"spanish_jumbo\"\n        ],\n        \"semantic_type\": \"\",\n        \"description\": \"\"\n      }\n    },\n    {\n      \"column\": \"mass\",\n      \"properties\": {\n        \"dtype\": \"number\",\n        \"std\": 55,\n        \"min\": 76,\n        \"max\": 362,\n        \"num_unique_values\": 40,\n        \"samples\": [\n          342,\n          160,\n          162\n        ],\n        \"semantic_type\": \"\",\n        \"description\": \"\"\n      }\n    },\n    {\n      \"column\": \"width\",\n      \"properties\": {\n        \"dtype\": \"number\",\n        \"std\": 0.8169378756639522,\n        \"min\": 5.8,\n        \"max\": 9.6,\n        \"num_unique_values\": 24,\n        \"samples\": [\n          6.9,\n          9.6,\n          8.4\n        ],\n        \"semantic_type\": \"\",\n        \"description\": \"\"\n      }\n    },\n    {\n      \"column\": \"height\",\n      \"properties\": {\n        \"dtype\": \"number\",\n        \"std\": 1.361016912760665,\n        \"min\": 4.0,\n        \"max\": 10.5,\n        \"num_unique_values\": 28,\n        \"samples\": [\n          7.6,\n          8.7,\n          7.0\n        ],\n        \"semantic_type\": \"\",\n        \"description\": \"\"\n      }\n    },\n    {\n      \"column\": \"color_score\",\n      \"properties\": {\n        \"dtype\": \"number\",\n        \"std\": 0.07685747776101508,\n        \"min\": 0.55,\n        \"max\": 0.93,\n        \"num_unique_values\": 27,\n        \"samples\": [\n          0.89,\n          0.67,\n          0.93\n        ],\n        \"semantic_type\": \"\",\n        \"description\": \"\"\n      }\n    }\n  ]\n}"
            }
          },
          "metadata": {},
          "execution_count": 190
        }
      ]
    },
    {
      "cell_type": "markdown",
      "id": "66352dde-4078-44ab-8887-83f5692e27bb",
      "metadata": {
        "id": "66352dde-4078-44ab-8887-83f5692e27bb"
      },
      "source": [
        "#### Question 4\n",
        "1. Split the data by columns into X_fruits and y_fruits where X_fruits is the data records and y_fruits is the labels.\n",
        "2. Using only the **'height'** and **'width'** features, split the data into training and testing using random_state=0, and 25% of the data for testing.\n",
        "3. Using **sklearn LinearSVC**, train a linear svm"
      ]
    },
    {
      "cell_type": "code",
      "execution_count": 191,
      "id": "5dd1699a-1da6-4824-8fda-ec8ab5ee888d",
      "metadata": {
        "id": "5dd1699a-1da6-4824-8fda-ec8ab5ee888d",
        "colab": {
          "base_uri": "https://localhost:8080/"
        },
        "outputId": "59779884-374b-47e4-b090-35a6e435a247"
      },
      "outputs": [
        {
          "output_type": "stream",
          "name": "stdout",
          "text": [
            "Training Score: 0.75\n",
            "Testing Score: 0.4666666666666667\n"
          ]
        }
      ],
      "source": [
        "from sklearn.svm import LinearSVC\n",
        "\n",
        "X_fruits = fruits.drop('fruit_label', axis=1)\n",
        "y_fruits = fruits['fruit_label']\n",
        "\n",
        "X_fruits_h_w = X_fruits[['height', 'width']]\n",
        "X_train, X_test, y_train, y_test = train_test_split(X_fruits_h_w, y_fruits, test_size=0.25, random_state=0)\n",
        "\n",
        "svm_fruits_model = LinearSVC()\n",
        "svm_fruits_model.fit(X_train, y_train)\n",
        "\n",
        "print(f\"Training Score: {svm_fruits_model.score(X_train, y_train)}\")\n",
        "print(f\"Testing Score: {svm_fruits_model.score(X_test, y_test)}\")"
      ]
    },
    {
      "cell_type": "markdown",
      "id": "a611f9a5-9b50-4254-9758-b345c0a8b004",
      "metadata": {
        "id": "a611f9a5-9b50-4254-9758-b345c0a8b004"
      },
      "source": [
        "#### Question 5\n",
        "For the previous model from question 4.\n",
        "1. How many SVM models have been trained? and Why?\n",
        "2. Print the models' coefficients and intercepts."
      ]
    },
    {
      "cell_type": "code",
      "execution_count": 192,
      "id": "a570c2fd-da23-45a9-991e-0cbaaf42a408",
      "metadata": {
        "id": "a570c2fd-da23-45a9-991e-0cbaaf42a408",
        "colab": {
          "base_uri": "https://localhost:8080/"
        },
        "outputId": "77a730e2-eacf-434f-e9cb-e279d800a52b"
      },
      "outputs": [
        {
          "output_type": "stream",
          "name": "stdout",
          "text": [
            "Number of trained SVM models: 4\n",
            "Coefficients: [[-0.28037302  0.47594355]\n",
            " [-1.10758759  0.78948855]\n",
            " [-0.03929154  0.21300773]\n",
            " [ 1.01073208 -1.26248135]]\n",
            "Intercept: [-1.5126779   0.7872759  -1.67988201  0.3759239 ]\n"
          ]
        }
      ],
      "source": [
        "print(f'Number of trained SVM models: {len(svm_fruits_model.coef_)}')\n",
        "\n",
        "print(f'Coefficients: {svm_fruits_model.coef_}')\n",
        "print(f'Intercept: {svm_fruits_model.intercept_}')"
      ]
    },
    {
      "cell_type": "markdown",
      "source": [
        "There are 4 models because the data has 4 classes (apple, mandarin, orange, lemon)"
      ],
      "metadata": {
        "id": "6H1xbiHRXZOW"
      },
      "id": "6H1xbiHRXZOW"
    },
    {
      "cell_type": "markdown",
      "id": "38e23755-67ec-4206-82f8-510af6afb99a",
      "metadata": {
        "id": "38e23755-67ec-4206-82f8-510af6afb99a"
      },
      "source": [
        "#### Question 6\n",
        "Plot the classification boundary of each svm on a scatter plot of the training data.\n",
        "(plot it any way you can)"
      ]
    },
    {
      "cell_type": "code",
      "source": [
        "import numpy as np\n",
        "import matplotlib.pyplot as plt\n",
        "import matplotlib.patches as mpatches\n",
        "from matplotlib.colors import ListedColormap\n",
        "\n",
        "# Create mapping label -> name\n",
        "label_to_name = dict(zip(fruits['fruit_label'], fruits['fruit_name']))\n",
        "\n",
        "h = 0.01\n",
        "x_min, x_max = X_train['height'].min() - 1, X_train['height'].max() + 1\n",
        "y_min, y_max = X_train['width'].min() - 1, X_train['width'].max() + 1\n",
        "xx, yy = np.meshgrid(np.arange(x_min, x_max, h), np.arange(y_min, y_max, h))\n",
        "\n",
        "mesh_points = pd.DataFrame(np.c_[xx.ravel(), yy.ravel()], columns=['height', 'width'])\n",
        "predictions = svm_fruits_model.predict(mesh_points)\n",
        "predictions = predictions.reshape(xx.shape)\n",
        "\n",
        "# Prepare consistent color mapping\n",
        "unique_labels = sorted(y_train.unique())\n",
        "cmap = ListedColormap([plt.cm.Set1(i / len(unique_labels)) for i in range(len(unique_labels))])\n",
        "\n",
        "plt.figure(figsize=(10,6))\n",
        "plt.contourf(xx, yy, predictions, alpha=0.3, cmap=cmap)\n",
        "\n",
        "scatter = plt.scatter(X_train['height'], X_train['width'], c=y_train, edgecolors='k', cmap=cmap)\n",
        "\n",
        "# Custom legend\n",
        "legend_patches = [mpatches.Patch(color=cmap(i), label=label_to_name[unique_labels[i]]) for i in range(len(unique_labels))]\n",
        "plt.legend(handles=legend_patches, title=\"Fruit Name\")\n",
        "\n",
        "plt.xlabel('Height')\n",
        "plt.ylabel('Width')\n",
        "\n",
        "plt.show()"
      ],
      "metadata": {
        "colab": {
          "base_uri": "https://localhost:8080/",
          "height": 542
        },
        "id": "RwYX4xo2OHBn",
        "outputId": "9ca87da2-9a28-47cc-9a29-c05df4d978e8"
      },
      "id": "RwYX4xo2OHBn",
      "execution_count": 193,
      "outputs": [
        {
          "output_type": "display_data",
          "data": {
            "text/plain": [
              "<Figure size 1000x600 with 1 Axes>"
            ],
            "image/png": "[encoded data removed]"
          },
          "metadata": {}
        }
      ]
    },
    {
      "cell_type": "markdown",
      "id": "2e11ad7d-6ae9-46b2-b788-ed90ea00dcfb",
      "metadata": {
        "id": "2e11ad7d-6ae9-46b2-b788-ed90ea00dcfb"
      },
      "source": [
        " Use the breast cancer dataset in question 7, 8, and9."
      ]
    },
    {
      "cell_type": "code",
      "execution_count": 194,
      "id": "de479d67-6c2c-4be0-9526-83fe840138c4",
      "metadata": {
        "id": "de479d67-6c2c-4be0-9526-83fe840138c4"
      },
      "outputs": [],
      "source": [
        "from sklearn.datasets import load_breast_cancer\n",
        "(X_cancer, y_cancer) = load_breast_cancer(return_X_y = True)"
      ]
    },
    {
      "cell_type": "markdown",
      "id": "19edd997-56a1-4a8d-bbc8-5d53a8aa3a1a",
      "metadata": {
        "id": "19edd997-56a1-4a8d-bbc8-5d53a8aa3a1a"
      },
      "source": [
        "#### Question 7\n",
        "1. Split the dataset into training and testing datasets, use random_state = 0, and 25% of the data for testing.\n",
        "2. Use GridSearchCV to find the best C value for and SVM classifier with rbf kernel and print the best C value. *use:*  \n",
        "```python\n",
        "parameters = {'kernel' : ('poly', 'rbf'), 'C':[0.001, 0.01, 0.1, 0.5, 1, 10]}\n",
        "```\n",
        "3. Print the best parameters resulted from your grid search."
      ]
    },
    {
      "cell_type": "code",
      "execution_count": 195,
      "id": "13a88e01-c565-4a50-b213-d749f596847e",
      "metadata": {
        "id": "13a88e01-c565-4a50-b213-d749f596847e",
        "colab": {
          "base_uri": "https://localhost:8080/"
        },
        "outputId": "91214ecb-137b-4550-82cb-5c8455e942f4"
      },
      "outputs": [
        {
          "output_type": "stream",
          "name": "stdout",
          "text": [
            "Best Parameters: {'C': 10, 'kernel': 'rbf'}\n"
          ]
        }
      ],
      "source": [
        "\n",
        "from sklearn.model_selection import GridSearchCV\n",
        "\n",
        "X_cancer_train, X_cancer_test, y_cancer_train, y_cancer_test = train_test_split(X_cancer, y_cancer, test_size=0.25, random_state=0)\n",
        "\n",
        "svm_cancer_model = SVC()\n",
        "parameters = {'kernel' : ('poly', 'rbf'), 'C':[0.001, 0.01, 0.1, 0.5, 1, 10]}\n",
        "\n",
        "grid = GridSearchCV(svm_cancer_model, parameters, cv=5)\n",
        "grid.fit(X_cancer_train, y_cancer_train)\n",
        "\n",
        "print(f'Best Parameters: {grid.best_params_}')"
      ]
    },
    {
      "cell_type": "markdown",
      "id": "0b0a89ca-c6a7-4ee2-8816-f548f3d1c370",
      "metadata": {
        "id": "0b0a89ca-c6a7-4ee2-8816-f548f3d1c370"
      },
      "source": [
        "#### Question 8\n",
        "Train an SVM model using the best parameters resulted from question 7, then calculate and print the training and testing accuracy."
      ]
    },
    {
      "cell_type": "code",
      "execution_count": 196,
      "id": "01cff031-bb89-4312-a4e4-625d75c7063d",
      "metadata": {
        "id": "01cff031-bb89-4312-a4e4-625d75c7063d",
        "colab": {
          "base_uri": "https://localhost:8080/"
        },
        "outputId": "d6ae0fd5-d446-41e8-afeb-89eb9a2f7a30"
      },
      "outputs": [
        {
          "output_type": "stream",
          "name": "stdout",
          "text": [
            "Training Score: 0.9154929577464789\n",
            "Testing Score: 0.9370629370629371\n"
          ]
        }
      ],
      "source": [
        "svm_cancer_best_model = SVC(C=10, kernel='rbf')\n",
        "svm_cancer_best_model.fit(X_cancer_train, y_cancer_train)\n",
        "\n",
        "print(f'Training Score: {svm_cancer_best_model.score(X_cancer_train, y_cancer_train)}')\n",
        "print(f'Testing Score: {svm_cancer_best_model.score(X_cancer_test, y_cancer_test)}')"
      ]
    },
    {
      "cell_type": "markdown",
      "id": "04675165-358e-4881-b04c-448f78830b38",
      "metadata": {
        "id": "04675165-358e-4881-b04c-448f78830b38"
      },
      "source": [
        "#### Question 9\n",
        "Improve the previous results from question 8.\n",
        "\n",
        "**Hint:** Don't change the model, instead, make some preprocessing on the data."
      ]
    },
    {
      "cell_type": "code",
      "source": [
        "from sklearn.preprocessing import StandardScaler\n",
        "\n",
        "scaler = StandardScaler()\n",
        "X_cancer_train_scaled = scaler.fit_transform(X_cancer_train)\n",
        "X_cancer_test_scaled = scaler.transform(X_cancer_test)\n",
        "\n",
        "parameters = {'kernel' : ('poly', 'rbf'), 'C':[0.001, 0.01, 0.1, 0.5, 1, 10]}\n",
        "\n",
        "grid = GridSearchCV(svm_cancer_best_model, parameters, cv=5)\n",
        "grid.fit(X_cancer_train_scaled, y_cancer_train)\n",
        "\n",
        "print(f\"Best Parameters: {grid.best_params_}\")\n",
        "\n",
        "best_model = grid.best_estimator_\n",
        "\n",
        "print(f\"Training accuracy: {best_model.score(X_cancer_train_scaled, y_cancer_train)}\")\n",
        "print(f\"Testing accuracy: {best_model.score(X_cancer_test_scaled, y_cancer_test)}\")"
      ],
      "metadata": {
        "colab": {
          "base_uri": "https://localhost:8080/"
        },
        "id": "V1EuUZ_cgDpY",
        "outputId": "70bf424d-16ad-48a0-bdd9-240ba97ab8ba"
      },
      "id": "V1EuUZ_cgDpY",
      "execution_count": 197,
      "outputs": [
        {
          "output_type": "stream",
          "name": "stdout",
          "text": [
            "Best Parameters: {'C': 1, 'kernel': 'rbf'}\n",
            "Training accuracy: 0.9859154929577465\n",
            "Testing accuracy: 0.965034965034965\n"
          ]
        }
      ]
    }
  ],
  "metadata": {
    "kernelspec": {
      "display_name": "Python 3 (ipykernel)",
      "language": "python",
      "name": "python3"
    },
    "language_info": {
      "codemirror_mode": {
        "name": "ipython",
        "version": 3
      },
      "file_extension": ".py",
      "mimetype": "text/x-python",
      "name": "python",
      "nbconvert_exporter": "python",
      "pygments_lexer": "ipython3",
      "version": "3.10.6"
    },
    "colab": {
      "provenance": []
    }
  },
  "nbformat": 4,
  "nbformat_minor": 5
}