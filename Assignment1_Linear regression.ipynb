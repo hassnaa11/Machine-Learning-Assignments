{
  "cells": [
    {
      "cell_type": "markdown",
      "id": "740998e3-c880-456d-adf6-b331ce5fea0c",
      "metadata": {
        "nbgrader": {
          "grade": false,
          "grade_id": "cell-86e878fd0d037967",
          "locked": true,
          "schema_version": 3,
          "solution": false,
          "task": false
        },
        "tags": [],
        "id": "740998e3-c880-456d-adf6-b331ce5fea0c"
      },
      "source": [
        "# Machine Learning\n",
        "# Assignment 1: Linear Regression"
      ]
    },
    {
      "cell_type": "markdown",
      "id": "90f7867a",
      "metadata": {
        "id": "90f7867a"
      },
      "source": [
        "Please write your full name here\n",
        "- **Name** : \"Hasnaa Hossam Hassanein Hussein\""
      ]
    },
    {
      "cell_type": "markdown",
      "id": "f513a4e8-a4af-48d6-84b4-df215736c8d3",
      "metadata": {
        "id": "f513a4e8-a4af-48d6-84b4-df215736c8d3"
      },
      "source": [
        "## Instructions\n",
        "- Please place your code where you're asked to. Do not change any other code.\n",
        "- Place your markdown answers inside the cells labelled \"Answer\".\n",
        "- Submit the notebook with your solutions and keep the cell outputs.\n",
        "- Please name your notebook in the following format \"assignment1_FirstnameLastname.ipynb\"\n",
        "- Late submissions will be penalized."
      ]
    },
    {
      "cell_type": "markdown",
      "id": "4545f2d5-2dd8-4b46-8e0d-78afdb957098",
      "metadata": {
        "tags": [],
        "id": "4545f2d5-2dd8-4b46-8e0d-78afdb957098"
      },
      "source": [
        "## Remember"
      ]
    },
    {
      "cell_type": "markdown",
      "id": "3139e293-272f-4695-9c1b-1411d573183e",
      "metadata": {
        "tags": [],
        "id": "3139e293-272f-4695-9c1b-1411d573183e"
      },
      "source": [
        "**Linear models**:\\\n",
        "Linear models make a prediction using a linear function of the input features $X$\n",
        "\n",
        "$$f_{\\mathbf{w}}(\\mathbf{x}) = \\sum_{i=1}^{p} w_i \\cdot x_i + w_{0}$$\n",
        "\n",
        "Learn $w$ from $X$, given a loss function $\\mathcal{L}$:\n",
        "$$\\underset{\\mathbf{w}}{\\operatorname{argmin}} \\mathcal{L}(f_\\mathbf{w}(X))$$\n"
      ]
    },
    {
      "cell_type": "markdown",
      "id": "f14f6dff-6ec5-418a-ae3f-3c1852eb4222",
      "metadata": {
        "jp-MarkdownHeadingCollapsed": true,
        "tags": [],
        "id": "f14f6dff-6ec5-418a-ae3f-3c1852eb4222"
      },
      "source": [
        "**Regression**\n",
        "* Prediction formula for input features x:\n",
        "    * $w_1$ ... $w_p$ usually called _weights_ or _coefficients_ , $w_0$ the _bias_ or _intercept_\n",
        "\n",
        "$$\\hat{y} = \\mathbf{w}\\mathbf{x} + w_0 = \\sum_{i=1}^{p} w_i \\cdot x_i + w_0 = w_1 \\cdot x_1 + w_2 \\cdot x_2 + ... + w_p \\cdot x_p + w_0 $$"
      ]
    },
    {
      "cell_type": "markdown",
      "id": "dfd9bc8a-432f-4532-9202-4677ba756306",
      "metadata": {
        "tags": [],
        "id": "dfd9bc8a-432f-4532-9202-4677ba756306"
      },
      "source": [
        "**Ordinary Least Squares Linear regression**\n",
        "* Loss function is the _sum of squared errors_ (SSE) (or residuals) between predictions $\\hat{y}_i$ (red) and the true regression targets $y_i$ (blue) on the training set.\n",
        "$$\\mathcal{L}_{SSE} = \\sum_{n=1}^{N} (y_n-\\hat{y}_n)^2 = \\sum_{n=1}^{N} (y_n-(\\mathbf{w}\\mathbf{x_n} + w_0))^2$$\n",
        "\n",
        "<img src=\"https://raw.githubusercontent.com/ML-course/master/master/notebooks/images/02_least_squares.png\" alt=\"ml\" style=\"margin: 0 auto; width: 550px;\"/>"
      ]
    },
    {
      "cell_type": "markdown",
      "id": "7dc2be7b-54ab-4bce-8f39-819d56a3b338",
      "metadata": {
        "tags": [],
        "id": "7dc2be7b-54ab-4bce-8f39-819d56a3b338"
      },
      "source": [
        "**Solving ordinary least squares**\n",
        "* Convex optimization problem with unique closed-form solution:\n",
        "$$w^{*} = (X^{T}X)^{-1} X^T Y$$\n",
        "    * Slow for large number of features\n",
        "    * Only works if inverse can be found\n",
        "* _Gradient Descent_\n",
        "    * Faster for large and/or high-dimensional datasets\n",
        "    * When $X^{T}X$ cannot be computed or takes too long"
      ]
    },
    {
      "cell_type": "markdown",
      "id": "16373cd6-0238-4fef-a57d-761350e32e54",
      "metadata": {
        "jp-MarkdownHeadingCollapsed": true,
        "tags": [],
        "id": "16373cd6-0238-4fef-a57d-761350e32e54"
      },
      "source": [
        "**Ridge regression**\n",
        "* Adds a penalty term to the least squares loss function:\n",
        "\n",
        "$$\\mathcal{L}_{Ridge} = \\sum_{n=1}^{N} (y_n-(\\mathbf{w}\\mathbf{x_n}))^2 + \\alpha \\sum_{i=1}^{p} w_i^2$$\n",
        "\n",
        "* Model is penalized if it uses large coefficients ($w$)\n",
        "* Regularization: explicitly restrict a model to avoid overfitting.\n",
        "    * Called L2 regularization because it uses the L2 norm: $\\sum w_i^2$\n",
        "* The strength of the regularization can be controlled with the $\\alpha$ hyperparameter.\n",
        "    * Increasing $\\alpha$ causes more regularization (or shrinkage). Default is 1.0.\n",
        "* Can be optimized in different ways:\n",
        "    * Closed form solution\n",
        "    * Gradient descent and variants\n",
        "   "
      ]
    },
    {
      "cell_type": "markdown",
      "id": "101128b7-510c-47fe-9d20-f87e3c16ea36",
      "metadata": {
        "jp-MarkdownHeadingCollapsed": true,
        "tags": [],
        "id": "101128b7-510c-47fe-9d20-f87e3c16ea36"
      },
      "source": [
        "**Least Absolute Shrinkage and Selection Operator (LASSO) regression**\n",
        "* Adds a different penalty term to the least squares sum:\n",
        "$$\\mathcal{L}_{Lasso} = \\sum_{n=1}^{N} (y_n-(\\mathbf{w}\\mathbf{x_n} + w_0))^2 + \\alpha \\sum_{i=1}^{p} |w_i|$$\n",
        "* Called L1 regularization because it uses the L1 norm\n",
        "    * Will cause many weights to be exactly 0\n",
        "* Same parameter $\\alpha$ to control the strength of regularization."
      ]
    },
    {
      "cell_type": "markdown",
      "id": "0d9771ee-6195-44a1-beef-8ce2ab22bc78",
      "metadata": {
        "id": "0d9771ee-6195-44a1-beef-8ce2ab22bc78"
      },
      "source": [
        "## Questions"
      ]
    },
    {
      "cell_type": "markdown",
      "id": "490ce357-c5c4-4243-be51-792c45598ad7",
      "metadata": {
        "id": "490ce357-c5c4-4243-be51-792c45598ad7"
      },
      "source": [
        "Here, we synthesize polynomial data and fit a polynomial linear regression model on the data. You can use the [LinearRegression](https://scikit-learn.org/stable/modules/generated/sklearn.linear_model.LinearRegression.html) function in scikit-learn.\n"
      ]
    },
    {
      "cell_type": "code",
      "execution_count": 1,
      "id": "4e43c7f6-6100-4915-80da-22c0e368a9ac",
      "metadata": {
        "id": "4e43c7f6-6100-4915-80da-22c0e368a9ac",
        "outputId": "daf9c865-6b7d-408c-b45d-1dfb21dcae79",
        "tags": [],
        "colab": {
          "base_uri": "https://localhost:8080/",
          "height": 430
        }
      },
      "outputs": [
        {
          "output_type": "display_data",
          "data": {
            "text/plain": [
              "<Figure size 640x480 with 1 Axes>"
            ],
            "image/png": "[encoded data removed]"
          },
          "metadata": {}
        }
      ],
      "source": [
        "%matplotlib notebook\n",
        "%matplotlib inline\n",
        "\n",
        "import numpy as np\n",
        "import pandas as pd\n",
        "import matplotlib.pyplot as plt\n",
        "from sklearn.model_selection import train_test_split\n",
        "\n",
        "\n",
        "np.random.seed(0)\n",
        "n = 15\n",
        "x = np.linspace(0,10,n) + np.random.randn(n)/5\n",
        "y = np.sin(x)+x/6 + np.random.randn(n)/10\n",
        "\n",
        "\n",
        "X_train, X_test, y_train, y_test = train_test_split(x, y, random_state=0)\n",
        "\n",
        "\n",
        "plt.figure()\n",
        "plt.scatter(X_train, y_train, label='training data')\n",
        "plt.scatter(X_test, y_test, label='test data')\n",
        "plt.legend(loc=4);"
      ]
    },
    {
      "cell_type": "markdown",
      "id": "2e607277-9341-4224-ab08-1358bbbf0646",
      "metadata": {
        "id": "2e607277-9341-4224-ab08-1358bbbf0646",
        "tags": []
      },
      "source": [
        "### Question 1.1.1\n",
        "- Write a function that fits a LinearRegression model on the training data X_train.\n",
        "- For each model, find 100 predicted values over the interval x = 0 to 10 (e.g. np.linspace(0,10,100)) and store this in a numpy array. Your function should return this numpy array."
      ]
    },
    {
      "cell_type": "code",
      "execution_count": 2,
      "id": "fb627030-cdbf-4ca3-8aae-d1299c13a8bf",
      "metadata": {
        "id": "fb627030-cdbf-4ca3-8aae-d1299c13a8bf"
      },
      "outputs": [],
      "source": [
        "from sklearn.linear_model import LinearRegression\n",
        "\n",
        "def LinReg():\n",
        "    # your answer here\n",
        "    reg = LinearRegression().fit(X_train.reshape(-1,1), y_train)\n",
        "    x_pred = np.linspace(0,10,100).reshape(-1,1)\n",
        "    results = reg.predict(x_pred)\n",
        "    return results"
      ]
    },
    {
      "cell_type": "code",
      "execution_count": 3,
      "id": "1f6d7c24",
      "metadata": {
        "colab": {
          "base_uri": "https://localhost:8080/"
        },
        "id": "1f6d7c24",
        "outputId": "8b501c0f-60a4-485e-db6c-6b4c9513d71e"
      },
      "outputs": [
        {
          "output_type": "stream",
          "name": "stdout",
          "text": [
            "(100,)\n"
          ]
        }
      ],
      "source": [
        "results = LinReg()\n",
        "print(results.shape)"
      ]
    },
    {
      "cell_type": "code",
      "execution_count": 4,
      "id": "7cac2e70",
      "metadata": {
        "colab": {
          "base_uri": "https://localhost:8080/"
        },
        "id": "7cac2e70",
        "outputId": "e2d4efe8-75a4-4dfd-8915-3c88270c7cec"
      },
      "outputs": [
        {
          "output_type": "stream",
          "name": "stdout",
          "text": [
            "[0.2530402  0.26920155 0.2853629  0.30152425 0.3176856  0.33384695\n",
            " 0.35000831 0.36616966 0.38233101 0.39849236 0.41465371 0.43081507\n",
            " 0.44697642 0.46313777 0.47929912 0.49546047 0.51162182 0.52778318\n",
            " 0.54394453 0.56010588 0.57626723 0.59242858 0.60858994 0.62475129\n",
            " 0.64091264 0.65707399 0.67323534 0.6893967  0.70555805 0.7217194\n",
            " 0.73788075 0.7540421  0.77020345 0.78636481 0.80252616 0.81868751\n",
            " 0.83484886 0.85101021 0.86717157 0.88333292 0.89949427 0.91565562\n",
            " 0.93181697 0.94797832 0.96413968 0.98030103 0.99646238 1.01262373\n",
            " 1.02878508 1.04494644 1.06110779 1.07726914 1.09343049 1.10959184\n",
            " 1.1257532  1.14191455 1.1580759  1.17423725 1.1903986  1.20655995\n",
            " 1.22272131 1.23888266 1.25504401 1.27120536 1.28736671 1.30352807\n",
            " 1.31968942 1.33585077 1.35201212 1.36817347 1.38433482 1.40049618\n",
            " 1.41665753 1.43281888 1.44898023 1.46514158 1.48130294 1.49746429\n",
            " 1.51362564 1.52978699 1.54594834 1.56210969 1.57827105 1.5944324\n",
            " 1.61059375 1.6267551  1.64291645 1.65907781 1.67523916 1.69140051\n",
            " 1.70756186 1.72372321 1.73988457 1.75604592 1.77220727 1.78836862\n",
            " 1.80452997 1.82069132 1.83685268 1.85301403]\n"
          ]
        }
      ],
      "source": [
        "print(results)"
      ]
    },
    {
      "cell_type": "markdown",
      "id": "f5bc45ee-5103-45c1-9190-efb9be138834",
      "metadata": {
        "id": "f5bc45ee-5103-45c1-9190-efb9be138834"
      },
      "source": [
        "### Fitted model plot"
      ]
    },
    {
      "cell_type": "code",
      "execution_count": 5,
      "id": "d2195f91-2cc3-40fe-846e-cc3fc5f43426",
      "metadata": {
        "id": "d2195f91-2cc3-40fe-846e-cc3fc5f43426",
        "colab": {
          "base_uri": "https://localhost:8080/",
          "height": 451
        },
        "outputId": "1890aa66-9fcd-4057-9ba1-e054fb66092d"
      },
      "outputs": [
        {
          "output_type": "display_data",
          "data": {
            "text/plain": [
              "<Figure size 1000x500 with 1 Axes>"
            ],
            "image/png": "[encoded data removed]"
          },
          "metadata": {}
        }
      ],
      "source": [
        "def plot_one(degree_predictions):\n",
        "    import matplotlib.pyplot as plt\n",
        "    plt.figure(figsize=(10,5))\n",
        "    plt.plot(X_train, y_train, 'o', label='training data', markersize=10)\n",
        "    plt.plot(X_test, y_test, 'o', label='test data', markersize=10)\n",
        "    plt.plot(np.linspace(0,10,100), degree_predictions, alpha=0.8, lw=2)\n",
        "    plt.ylim(-1,2.5)\n",
        "    plt.legend(loc=4)\n",
        "\n",
        "plot_one(LinReg())"
      ]
    },
    {
      "cell_type": "markdown",
      "id": "7e534f81-8e9c-48dd-b840-829166b32612",
      "metadata": {
        "id": "7e534f81-8e9c-48dd-b840-829166b32612"
      },
      "source": [
        "### Question 1.1.2\n",
        "Comment on the figure above in terms of fitting the data."
      ]
    },
    {
      "cell_type": "markdown",
      "source": [
        "**ANSWER**"
      ],
      "metadata": {
        "id": "L0EnsNAq7oDQ"
      },
      "id": "L0EnsNAq7oDQ"
    },
    {
      "cell_type": "markdown",
      "id": "502109c9",
      "metadata": {
        "id": "502109c9"
      },
      "source": [
        "The Linear model underfits the data. because the data isn't in a linear form."
      ]
    },
    {
      "cell_type": "markdown",
      "id": "430ee068-ef64-4335-9d2f-ccc1e526dd8e",
      "metadata": {
        "id": "430ee068-ef64-4335-9d2f-ccc1e526dd8e"
      },
      "source": [
        "### Notes on Polynomial Regression"
      ]
    },
    {
      "cell_type": "markdown",
      "id": "41e693d1-df6e-4ad1-a917-dd515287904b",
      "metadata": {
        "id": "41e693d1-df6e-4ad1-a917-dd515287904b"
      },
      "source": [
        "- Sometimes the relationship between the independent variable (input) and the dependent variable (output) is not linear. In this case, **Polynomial regression** is used, which provides flexibility by fitting a polynomial equation to the data. The general equation becomes:\n",
        "$$y=\\omega_0 + \\omega_1 x + \\omega_2 x^2 + ....... + \\omega_n x^n $$\n",
        "- **Steps**:\n",
        "    - Use [PolynomialFeatures](https://scikit-learn.org/stable/modules/generated/sklearn.preprocessing.PolynomialFeatures.html) function in scikit-learn to create polynomial features (see documentation for details and examples on usage).\n",
        "    - Use `LinearRegression` to fit a linear model on the polynomial data."
      ]
    },
    {
      "cell_type": "markdown",
      "id": "21efe349-281f-4875-86af-a0997acc7a91",
      "metadata": {
        "id": "21efe349-281f-4875-86af-a0997acc7a91"
      },
      "source": [
        "### Question 1.2.1\n",
        "- Write a function that fits a polynomial LinearRegression model on the training data X_train for degrees **1, 2, 3, 6, and 9**. (Use `PolynomialFeatures` in `sklearn.preprocessing` to create the polynomial features and then fit a linear regression model)\n",
        "- For each model, find 100 predicted values over the interval x = 0 to 10 (e.g. np.linspace(0,10,100)) and store this in a numpy array. Your function should return this array.\n",
        "- The first row of this array should correspond to the output from the model trained on degree 1, the second row degree 2, the third row degree 3, the fourth row degree 6, and the fifth row degree 9."
      ]
    },
    {
      "cell_type": "code",
      "execution_count": 6,
      "id": "4d35f2a8-c785-4057-a964-69c5dd30d18e",
      "metadata": {
        "id": "4d35f2a8-c785-4057-a964-69c5dd30d18e"
      },
      "outputs": [],
      "source": [
        "from sklearn.preprocessing import PolynomialFeatures\n",
        "\n",
        "def PolyReg():\n",
        "    x_pred = np.linspace(0,10,100).reshape(-1,1)\n",
        "    results =[]\n",
        "    degrees = [1,2,3,6,9]\n",
        "\n",
        "    for degree in degrees:\n",
        "      poly = PolynomialFeatures(degree)\n",
        "      X_train_poly = poly.fit_transform(X_train.reshape(-1,1))\n",
        "\n",
        "      reg = LinearRegression().fit(X_train_poly, y_train)\n",
        "\n",
        "      x_pred_poly = poly.transform(x_pred)\n",
        "      results.append(reg.predict(x_pred_poly))\n",
        "\n",
        "    return np.array(results)"
      ]
    },
    {
      "cell_type": "code",
      "execution_count": 7,
      "id": "b6722e66-4592-4505-b998-88086bc5693e",
      "metadata": {
        "colab": {
          "base_uri": "https://localhost:8080/"
        },
        "id": "b6722e66-4592-4505-b998-88086bc5693e",
        "outputId": "4bc54727-8246-4377-aba6-c45190aa75e9"
      },
      "outputs": [
        {
          "output_type": "stream",
          "name": "stdout",
          "text": [
            "(5, 100)\n"
          ]
        }
      ],
      "source": [
        "results = PolyReg()\n",
        "print(results.shape)"
      ]
    },
    {
      "cell_type": "code",
      "execution_count": 8,
      "id": "55cf64ff-8fb2-414c-8031-f0529e179d8f",
      "metadata": {
        "colab": {
          "base_uri": "https://localhost:8080/"
        },
        "id": "55cf64ff-8fb2-414c-8031-f0529e179d8f",
        "outputId": "1b4109db-94ba-49f3-c1e1-a0fa7cc1cf2c"
      },
      "outputs": [
        {
          "output_type": "stream",
          "name": "stdout",
          "text": [
            "[[ 2.53040195e-01  2.69201547e-01  2.85362899e-01  3.01524251e-01\n",
            "   3.17685603e-01  3.33846955e-01  3.50008306e-01  3.66169658e-01\n",
            "   3.82331010e-01  3.98492362e-01  4.14653714e-01  4.30815066e-01\n",
            "   4.46976417e-01  4.63137769e-01  4.79299121e-01  4.95460473e-01\n",
            "   5.11621825e-01  5.27783177e-01  5.43944529e-01  5.60105880e-01\n",
            "   5.76267232e-01  5.92428584e-01  6.08589936e-01  6.24751288e-01\n",
            "   6.40912640e-01  6.57073992e-01  6.73235343e-01  6.89396695e-01\n",
            "   7.05558047e-01  7.21719399e-01  7.37880751e-01  7.54042103e-01\n",
            "   7.70203454e-01  7.86364806e-01  8.02526158e-01  8.18687510e-01\n",
            "   8.34848862e-01  8.51010214e-01  8.67171566e-01  8.83332917e-01\n",
            "   8.99494269e-01  9.15655621e-01  9.31816973e-01  9.47978325e-01\n",
            "   9.64139677e-01  9.80301028e-01  9.96462380e-01  1.01262373e+00\n",
            "   1.02878508e+00  1.04494644e+00  1.06110779e+00  1.07726914e+00\n",
            "   1.09343049e+00  1.10959184e+00  1.12575320e+00  1.14191455e+00\n",
            "   1.15807590e+00  1.17423725e+00  1.19039860e+00  1.20655995e+00\n",
            "   1.22272131e+00  1.23888266e+00  1.25504401e+00  1.27120536e+00\n",
            "   1.28736671e+00  1.30352807e+00  1.31968942e+00  1.33585077e+00\n",
            "   1.35201212e+00  1.36817347e+00  1.38433482e+00  1.40049618e+00\n",
            "   1.41665753e+00  1.43281888e+00  1.44898023e+00  1.46514158e+00\n",
            "   1.48130294e+00  1.49746429e+00  1.51362564e+00  1.52978699e+00\n",
            "   1.54594834e+00  1.56210969e+00  1.57827105e+00  1.59443240e+00\n",
            "   1.61059375e+00  1.62675510e+00  1.64291645e+00  1.65907781e+00\n",
            "   1.67523916e+00  1.69140051e+00  1.70756186e+00  1.72372321e+00\n",
            "   1.73988457e+00  1.75604592e+00  1.77220727e+00  1.78836862e+00\n",
            "   1.80452997e+00  1.82069132e+00  1.83685268e+00  1.85301403e+00]\n",
            " [ 5.38844184e-01  5.38465542e-01  5.38399013e-01  5.38644598e-01\n",
            "   5.39202297e-01  5.40072109e-01  5.41254034e-01  5.42748073e-01\n",
            "   5.44554226e-01  5.46672492e-01  5.49102871e-01  5.51845365e-01\n",
            "   5.54899971e-01  5.58266691e-01  5.61945525e-01  5.65936473e-01\n",
            "   5.70239533e-01  5.74854708e-01  5.79781996e-01  5.85021397e-01\n",
            "   5.90572912e-01  5.96436541e-01  6.02612283e-01  6.09100138e-01\n",
            "   6.15900107e-01  6.23012190e-01  6.30436386e-01  6.38172696e-01\n",
            "   6.46221119e-01  6.54581656e-01  6.63254307e-01  6.72239070e-01\n",
            "   6.81535948e-01  6.91144939e-01  7.01066043e-01  7.11299261e-01\n",
            "   7.21844593e-01  7.32702038e-01  7.43871597e-01  7.55353269e-01\n",
            "   7.67147055e-01  7.79252954e-01  7.91670967e-01  8.04401093e-01\n",
            "   8.17443333e-01  8.30797686e-01  8.44464153e-01  8.58442734e-01\n",
            "   8.72733428e-01  8.87336235e-01  9.02251156e-01  9.17478191e-01\n",
            "   9.33017339e-01  9.48868601e-01  9.65031976e-01  9.81507465e-01\n",
            "   9.98295067e-01  1.01539478e+00  1.03280661e+00  1.05053056e+00\n",
            "   1.06856661e+00  1.08691478e+00  1.10557507e+00  1.12454746e+00\n",
            "   1.14383197e+00  1.16342860e+00  1.18333733e+00  1.20355819e+00\n",
            "   1.22409115e+00  1.24493623e+00  1.26609342e+00  1.28756273e+00\n",
            "   1.30934414e+00  1.33143768e+00  1.35384332e+00  1.37656108e+00\n",
            "   1.39959096e+00  1.42293294e+00  1.44658704e+00  1.47055326e+00\n",
            "   1.49483158e+00  1.51942202e+00  1.54432458e+00  1.56953925e+00\n",
            "   1.59506603e+00  1.62090492e+00  1.64705593e+00  1.67351905e+00\n",
            "   1.70029429e+00  1.72738164e+00  1.75478110e+00  1.78249268e+00\n",
            "   1.81051637e+00  1.83885217e+00  1.86750009e+00  1.89646012e+00\n",
            "   1.92573226e+00  1.95531652e+00  1.98521289e+00  2.01542137e+00]\n",
            " [ 1.22989539e+00  1.15143628e+00  1.07722393e+00  1.00717881e+00\n",
            "   9.41221419e-01  8.79272234e-01  8.21251741e-01  7.67080426e-01\n",
            "   7.16678772e-01  6.69967266e-01  6.26866391e-01  5.87296632e-01\n",
            "   5.51178474e-01  5.18432402e-01  4.88978901e-01  4.62738455e-01\n",
            "   4.39631549e-01  4.19578668e-01  4.02500297e-01  3.88316920e-01\n",
            "   3.76949022e-01  3.68317088e-01  3.62341603e-01  3.58943051e-01\n",
            "   3.58041918e-01  3.59558687e-01  3.63413845e-01  3.69527874e-01\n",
            "   3.77821261e-01  3.88214491e-01  4.00628046e-01  4.14982414e-01\n",
            "   4.31198078e-01  4.49195522e-01  4.68895233e-01  4.90217694e-01\n",
            "   5.13083391e-01  5.37412808e-01  5.63126429e-01  5.90144741e-01\n",
            "   6.18388226e-01  6.47777371e-01  6.78232660e-01  7.09674578e-01\n",
            "   7.42023609e-01  7.75200238e-01  8.09124950e-01  8.43718230e-01\n",
            "   8.78900563e-01  9.14592432e-01  9.50714324e-01  9.87186723e-01\n",
            "   1.02393011e+00  1.06086498e+00  1.09791181e+00  1.13499108e+00\n",
            "   1.17202328e+00  1.20892890e+00  1.24562842e+00  1.28204233e+00\n",
            "   1.31809110e+00  1.35369523e+00  1.38877520e+00  1.42325149e+00\n",
            "   1.45704459e+00  1.49007498e+00  1.52226316e+00  1.55352959e+00\n",
            "   1.58379478e+00  1.61297919e+00  1.64100332e+00  1.66778766e+00\n",
            "   1.69325268e+00  1.71731887e+00  1.73990672e+00  1.76093671e+00\n",
            "   1.78032933e+00  1.79800506e+00  1.81388438e+00  1.82788778e+00\n",
            "   1.83993575e+00  1.84994877e+00  1.85784732e+00  1.86355189e+00\n",
            "   1.86698296e+00  1.86806103e+00  1.86670656e+00  1.86284006e+00\n",
            "   1.85638200e+00  1.84725286e+00  1.83537314e+00  1.82066332e+00\n",
            "   1.80304388e+00  1.78243530e+00  1.75875808e+00  1.73193269e+00\n",
            "   1.70187963e+00  1.66851936e+00  1.63177240e+00  1.59155920e+00]\n",
            " [-1.99554310e-01 -3.95192724e-03  1.79851752e-01  3.51005136e-01\n",
            "   5.08831706e-01  6.52819233e-01  7.82609240e-01  8.97986721e-01\n",
            "   9.98870117e-01  1.08530155e+00  1.15743729e+00  1.21553852e+00\n",
            "   1.25996233e+00  1.29115292e+00  1.30963316e+00  1.31599632e+00\n",
            "   1.31089811e+00  1.29504889e+00  1.26920626e+00  1.23416782e+00\n",
            "   1.19076415e+00  1.13985218e+00  1.08230867e+00  1.01902405e+00\n",
            "   9.50896441e-01  8.78825970e-01  8.03709344e-01  7.26434655e-01\n",
            "   6.47876457e-01  5.68891088e-01  4.90312256e-01  4.12946874e-01\n",
            "   3.37571147e-01  2.64926923e-01  1.95718291e-01  1.30608438e-01\n",
            "   7.02167560e-02  1.51162118e-02 -3.41690366e-02 -7.71657636e-02\n",
            "  -1.13453547e-01 -1.42666382e-01 -1.64494044e-01 -1.78683194e-01\n",
            "  -1.85038228e-01 -1.83421873e-01 -1.73755533e-01 -1.56019368e-01\n",
            "  -1.30252132e-01 -9.65507462e-02 -5.50696232e-02 -6.01973198e-03\n",
            "   5.03325883e-02  1.13667071e-01  1.83611221e-01  2.59742264e-01\n",
            "   3.41589357e-01  4.28636046e-01  5.20322987e-01  6.16050916e-01\n",
            "   7.15183874e-01  8.17052690e-01  9.20958717e-01  1.02617782e+00\n",
            "   1.13196463e+00  1.23755703e+00  1.34218093e+00  1.44505526e+00\n",
            "   1.54539723e+00  1.64242789e+00  1.73537785e+00  1.82349336e+00\n",
            "   1.90604254e+00  1.98232198e+00  2.05166348e+00  2.11344114e+00\n",
            "   2.16707864e+00  2.21205680e+00  2.24792141e+00  2.27429129e+00\n",
            "   2.29086658e+00  2.29743739e+00  2.29389257e+00  2.28022881e+00\n",
            "   2.25656001e+00  2.22312684e+00  2.18030664e+00  2.12862347e+00\n",
            "   2.06875850e+00  2.00156065e+00  1.92805743e+00  1.84946605e+00\n",
            "   1.76720485e+00  1.68290491e+00  1.59842194e+00  1.51584842e+00\n",
            "   1.43752602e+00  1.36605824e+00  1.30432333e+00  1.25548743e+00]\n",
            " [ 6.79502291e+00  4.14319962e+00  2.23123327e+00  9.10495584e-01\n",
            "   5.49803842e-02 -4.41344405e-01 -6.66950391e-01 -6.94942835e-01\n",
            "  -5.85049561e-01 -3.85418365e-01 -1.34236013e-01  1.38818612e-01\n",
            "   4.11275255e-01  6.66715494e-01  8.93747513e-01  1.08510207e+00\n",
            "   1.23683984e+00  1.34766074e+00  1.41830638e+00  1.45104729e+00\n",
            "   1.44924700e+00  1.41699539e+00  1.35880449e+00  1.27935991e+00\n",
            "   1.18332187e+00  1.07517000e+00  9.59086463e-01  8.38872509e-01\n",
            "   7.17893710e-01  5.99049649e-01  4.84764103e-01  3.76992115e-01\n",
            "   2.77240652e-01  1.86599874e-01  1.05782325e-01  3.51676284e-02\n",
            "  -2.51494338e-02 -7.53093493e-02 -1.15638432e-01 -1.46600906e-01\n",
            "  -1.68753692e-01 -1.82704857e-01 -1.89076490e-01 -1.88472584e-01\n",
            "  -1.81452335e-01 -1.68509088e-01 -1.50055030e-01 -1.26411586e-01\n",
            "  -9.78053403e-02 -6.43692086e-02 -2.61484622e-02  1.68888606e-02\n",
            "   6.48377139e-02  1.17838592e-01  1.76057536e-01  2.39664311e-01\n",
            "   3.08809493e-01  3.83601236e-01  4.64082456e-01  5.50209219e-01\n",
            "   6.41831039e-01  7.38673816e-01  8.40326052e-01  9.46228969e-01\n",
            "   1.05567105e+00  1.16778746e+00  1.28156475e+00  1.39585105e+00\n",
            "   1.50937187e+00  1.62075169e+00  1.72854101e+00  1.83124866e+00\n",
            "   1.92737901e+00  2.01547334e+00  2.09415461e+00  2.16217467e+00\n",
            "   2.21846259e+00  2.26217275e+00  2.29273095e+00  2.30987669e+00\n",
            "   2.31369926e+00  2.30466539e+00  2.28363550e+00  2.25186568e+00\n",
            "   2.21099185e+00  2.16299262e+00  2.11012668e+00  2.05484037e+00\n",
            "   1.99964084e+00  1.94692951e+00  1.89879053e+00  1.85672828e+00\n",
            "   1.82134765e+00  1.79197039e+00  1.76618046e+00  1.73929077e+00\n",
            "   1.70372326e+00  1.64829388e+00  1.55739354e+00  1.41005537e+00]]\n"
          ]
        }
      ],
      "source": [
        "print(results)"
      ]
    },
    {
      "cell_type": "markdown",
      "id": "a63132c1-5709-433d-847a-212b3385278e",
      "metadata": {
        "id": "a63132c1-5709-433d-847a-212b3385278e"
      },
      "source": [
        "### Fitted model plot"
      ]
    },
    {
      "cell_type": "code",
      "execution_count": 9,
      "id": "94714266-1e37-4a69-b007-da5238b7ef0d",
      "metadata": {
        "id": "94714266-1e37-4a69-b007-da5238b7ef0d",
        "colab": {
          "base_uri": "https://localhost:8080/",
          "height": 451
        },
        "outputId": "6cb26ed8-e4c9-4965-aabd-4121439ff20a"
      },
      "outputs": [
        {
          "output_type": "display_data",
          "data": {
            "text/plain": [
              "<Figure size 1000x500 with 1 Axes>"
            ],
            "image/png": "[encoded data removed]"
          },
          "metadata": {}
        }
      ],
      "source": [
        "def plot_one(degree_predictions):\n",
        "    import matplotlib.pyplot as plt\n",
        "    plt.figure(figsize=(10,5))\n",
        "    plt.plot(X_train, y_train, 'o', label='training data', markersize=10)\n",
        "    plt.plot(X_test, y_test, 'o', label='test data', markersize=10)\n",
        "    for i,degree in enumerate([1,2,3,6,9]):\n",
        "        plt.plot(np.linspace(0,10,100), degree_predictions[i], alpha=0.8, lw=2, label='degree={}'.format(degree))\n",
        "    plt.ylim(-1,2.5)\n",
        "    plt.legend(loc=4)\n",
        "\n",
        "plot_one(PolyReg())"
      ]
    },
    {
      "cell_type": "markdown",
      "id": "99495a07-7af5-4fc5-8261-1c4cf4113e6f",
      "metadata": {
        "id": "99495a07-7af5-4fc5-8261-1c4cf4113e6f"
      },
      "source": [
        "### Question 1.2.2\n",
        "Comment on the figure above in 2 lines in terms of fitting the data."
      ]
    },
    {
      "cell_type": "markdown",
      "id": "9406937b-34a1-48cf-b65c-ae22ff54ac01",
      "metadata": {
        "id": "9406937b-34a1-48cf-b65c-ae22ff54ac01"
      },
      "source": [
        "**ANSWER**"
      ]
    },
    {
      "cell_type": "markdown",
      "id": "3f85a9b2-0dfc-4c27-b268-7b8a33d78724",
      "metadata": {
        "id": "3f85a9b2-0dfc-4c27-b268-7b8a33d78724"
      },
      "source": [
        "The first and second-degree models underfit the data, and possibly the third-degree model as well, while the ninth-degree model overfits the data. The sixth-degree model seems to fit the data well."
      ]
    },
    {
      "cell_type": "markdown",
      "id": "754f72d1-798c-46d3-9a36-4de0af874e92",
      "metadata": {
        "id": "754f72d1-798c-46d3-9a36-4de0af874e92",
        "tags": []
      },
      "source": [
        "### Question 2\n",
        "- Write a function that fits a polynomial `LinearRegression` model on the training data `X_train` for degrees 0 through 9.\n",
        "- For each model compute the $R^2$ regression score on the **training data** as well as the the **test data**, and return both of these arrays in a tuple.\n",
        "\n",
        "- *This function should return one tuple of numpy arrays `(r2_train, r2_test)`. Both arrays should have shape `(10,)`*"
      ]
    },
    {
      "cell_type": "code",
      "execution_count": 10,
      "id": "7a317990-858a-4ed6-bc4c-7a2ce385746a",
      "metadata": {
        "id": "7a317990-858a-4ed6-bc4c-7a2ce385746a"
      },
      "outputs": [],
      "source": [
        "from sklearn.metrics import r2_score\n",
        "\n",
        "def answer_two():\n",
        "\n",
        "    r2_train, r2_test = [], []\n",
        "\n",
        "    for degree in range(0,10):\n",
        "        poly = PolynomialFeatures(degree)\n",
        "\n",
        "        X_train_poly = poly.fit_transform(X_train.reshape(-1, 1))\n",
        "        X_test_poly = poly.transform(X_test.reshape(-1, 1))\n",
        "\n",
        "        model = LinearRegression().fit(X_train_poly, y_train)\n",
        "\n",
        "        y_train_pred = model.predict(X_train_poly)\n",
        "        y_test_pred = model.predict(X_test_poly)\n",
        "\n",
        "        r2_train.append(r2_score(y_train, y_train_pred))\n",
        "        r2_test.append(r2_score(y_test, y_test_pred))\n",
        "\n",
        "    return (np.array(r2_train),np.array(r2_test))"
      ]
    },
    {
      "cell_type": "code",
      "execution_count": 11,
      "id": "eb5ba14f",
      "metadata": {
        "colab": {
          "base_uri": "https://localhost:8080/"
        },
        "id": "eb5ba14f",
        "outputId": "1aea89a5-0923-47a4-ce5e-43df7d024abb"
      },
      "outputs": [
        {
          "output_type": "stream",
          "name": "stdout",
          "text": [
            "(10,) (10,)\n"
          ]
        }
      ],
      "source": [
        "results = answer_two()\n",
        "print(results[0].shape,results[1].shape)"
      ]
    },
    {
      "cell_type": "code",
      "execution_count": 12,
      "id": "1b7642ec",
      "metadata": {
        "colab": {
          "base_uri": "https://localhost:8080/"
        },
        "id": "1b7642ec",
        "outputId": "4cdef39c-ef4a-45d4-a39c-c3ac2756d1eb"
      },
      "outputs": [
        {
          "output_type": "stream",
          "name": "stdout",
          "text": [
            "(array([0.        , 0.42924578, 0.4510998 , 0.58719954, 0.91941945,\n",
            "       0.97578641, 0.99018233, 0.99352509, 0.99637545, 0.99803706]), array([-0.47808642, -0.45237104, -0.06856984,  0.00533105,  0.73004943,\n",
            "        0.87708301,  0.9214094 ,  0.92021504,  0.63247948, -0.64525365]))\n"
          ]
        }
      ],
      "source": [
        "print(results)"
      ]
    },
    {
      "cell_type": "markdown",
      "id": "62d15124-54d3-44d3-80cc-ec9efd7f18ec",
      "metadata": {
        "id": "62d15124-54d3-44d3-80cc-ec9efd7f18ec"
      },
      "source": [
        "### Question 3\n",
        "- Plot $R^2$ scores at degrees from 0 to 9 for both training and testing data on the same plot.\n",
        "\n",
        "- The plot must contain a legend and appropriate names for the axes."
      ]
    },
    {
      "cell_type": "code",
      "execution_count": 13,
      "id": "d5fc0930",
      "metadata": {
        "colab": {
          "base_uri": "https://localhost:8080/",
          "height": 487
        },
        "id": "d5fc0930",
        "outputId": "00e9ae4a-643b-4ce4-cc9d-be78659cda51"
      },
      "outputs": [
        {
          "output_type": "display_data",
          "data": {
            "text/plain": [
              "<Figure size 1000x500 with 1 Axes>"
            ],
            "image/png": "[encoded data removed]"
          },
          "metadata": {}
        }
      ],
      "source": [
        "import matplotlib.pyplot as plt\n",
        "\n",
        "def plot_r2_score(r2_scores):\n",
        "    r2_train, r2_test = r2_scores\n",
        "    degrees = np.arange(10)\n",
        "    plt.figure(figsize=(10,5))\n",
        "\n",
        "    plt.plot(degrees, r2_train, alpha=0.8, lw=2, label='r2_train')\n",
        "    plt.plot(degrees, r2_test, alpha=0.8, lw=2, label='r2_test')\n",
        "\n",
        "    plt.ylim(-1,2.5)\n",
        "    plt.legend(loc=4)\n",
        "\n",
        "    plt.xlabel(\"Polynomial Degree\")\n",
        "    plt.ylabel(\"R2 Score\")\n",
        "    plt.title(\"R2 Score of Train Data vs Test Data\")\n",
        "\n",
        "plot_r2_score(answer_two())"
      ]
    },
    {
      "cell_type": "markdown",
      "id": "aa629bb4",
      "metadata": {
        "id": "aa629bb4"
      },
      "source": [
        "Based on the $R^2$ scores (degree levels 0 through 9), which degree levels correspond to a model that is **underfitting**? Which degree levels correspond to a model that is **overfitting**? What choice of degree level would provide a model with **good generalization** performance on this dataset?"
      ]
    },
    {
      "cell_type": "markdown",
      "id": "03e0f01d",
      "metadata": {
        "id": "03e0f01d"
      },
      "source": [
        "**ANSWER**"
      ]
    },
    {
      "cell_type": "markdown",
      "id": "25f59680",
      "metadata": {
        "id": "25f59680"
      },
      "source": [
        "**Underfitting** degrees is: **0, 1, 2, 3** <br>\n",
        "**Overfitting** degrees is: **8, 9** <br>\n",
        "**Good** degrees is: **4, 5, 6, 7** (**4 is not as good as 5,6,7**) <br>"
      ]
    },
    {
      "cell_type": "markdown",
      "id": "9639d156-3294-4eff-8042-2617d01aa163",
      "metadata": {
        "id": "9639d156-3294-4eff-8042-2617d01aa163"
      },
      "source": [
        "### Question 4\n",
        "\n",
        "- Training models on high degree polynomial features can result in overly complex models that overfit, so we often use regularized versions of the model to constrain model complexity.\n",
        "\n",
        "- For this question, train three models: a non-regularized LinearRegression model (default parameters) and a regularized Lasso Regression model (with parameters `alpha=0.01`, `max_iter=10000`), and a regularized Ridge Regression model (with parameters `alpha=0.01`, `max_iter=10000`) both on polynomial features of degree 50.\n",
        "- Return the $R^2$ score for both the LinearRegression, Lasso, Ridge model's test sets.\n",
        "\n",
        "\n",
        "*This function should return one tuple `(LinearRegression_R2_test_score, Lasso_R2_test_score, Ridge_R2_test_score)`*"
      ]
    },
    {
      "cell_type": "code",
      "execution_count": 14,
      "id": "955af3a4-c485-499b-999e-5db09dbfeb25",
      "metadata": {
        "id": "955af3a4-c485-499b-999e-5db09dbfeb25"
      },
      "outputs": [],
      "source": [
        "from sklearn.linear_model import Lasso, Ridge\n",
        "\n",
        "def answer_four():\n",
        "\n",
        "    poly = PolynomialFeatures(50)\n",
        "\n",
        "    X_train_poly = poly.fit_transform(X_train.reshape(-1, 1))\n",
        "    X_test_poly = poly.transform(X_test.reshape(-1, 1))\n",
        "    model = LinearRegression().fit(X_train_poly, y_train)\n",
        "    y_test_pred = model.predict(X_test_poly)\n",
        "    linear_r2_test = r2_score(y_test, y_test_pred)\n",
        "\n",
        "    lasso_model = Lasso(alpha=0.01, max_iter=10000)\n",
        "    lasso_model.fit(X_train_poly, y_train)\n",
        "    y_test_lasso_pred = lasso_model.predict(X_test_poly)\n",
        "    lasso_r2_test = r2_score(y_test, y_test_lasso_pred)\n",
        "\n",
        "    ridge_model = Ridge(alpha=0.01, max_iter=10000)\n",
        "    ridge_model.fit(X_train_poly, y_train)\n",
        "    y_test_ridge_pred = ridge_model.predict(X_test_poly)\n",
        "    ridge_r2_test = r2_score(y_test, y_test_ridge_pred)\n",
        "\n",
        "    return (linear_r2_test, lasso_r2_test, ridge_r2_test)"
      ]
    },
    {
      "cell_type": "code",
      "execution_count": 15,
      "id": "3fdd91cd",
      "metadata": {
        "colab": {
          "base_uri": "https://localhost:8080/"
        },
        "id": "3fdd91cd",
        "outputId": "664a33ba-dc41-4e0d-abbf-6eaea5c4c516"
      },
      "outputs": [
        {
          "output_type": "stream",
          "name": "stdout",
          "text": [
            "(0.006953559711665225, 0.8493908995296351, -0.08938086200465722)\n"
          ]
        },
        {
          "output_type": "stream",
          "name": "stderr",
          "text": [
            "/usr/local/lib/python3.11/dist-packages/sklearn/linear_model/_coordinate_descent.py:695: ConvergenceWarning: Objective did not converge. You might want to increase the number of iterations, check the scale of the features or consider increasing regularisation. Duality gap: 3.140e-01, tolerance: 6.895e-04\n",
            "  model = cd_fast.enet_coordinate_descent(\n",
            "/usr/local/lib/python3.11/dist-packages/sklearn/linear_model/_ridge.py:254: UserWarning: Singular matrix in solving dual problem. Using least-squares solution instead.\n",
            "  warnings.warn(\n"
          ]
        }
      ],
      "source": [
        "\n",
        "results = answer_four()\n",
        "print(results)\n"
      ]
    },
    {
      "cell_type": "markdown",
      "id": "78d295b2",
      "metadata": {
        "id": "78d295b2"
      },
      "source": [
        "**Comment on the results**\n",
        "- which is better?\n",
        "- what's the difference between the models in results and data fit?\n",
        "- how do the weight values differ between the models?"
      ]
    },
    {
      "cell_type": "markdown",
      "id": "763fe85a",
      "metadata": {
        "id": "763fe85a"
      },
      "source": [
        "**ANSWER**"
      ]
    },
    {
      "cell_type": "markdown",
      "id": "c936ebff",
      "metadata": {
        "id": "c936ebff"
      },
      "source": [
        "**Answer Q1:**  \n",
        "**Lasso** is the best, because it has the heighest R2 score.<br>\n",
        "<br>\n",
        "\n",
        "**Answer Q2:**  \n",
        "**Linear model** overfited the data due to the high degree (50). <br>\n",
        "**Lasso model** reduces the overfitting due to feature selection (shrinks some weights to zero). <br>\n",
        "**Ridge model** shrinks weights but doesn't remove them. It also underfits the data. <br>\n",
        "<br>\n",
        "\n",
        "\n",
        "**Answer Q3:**  \n",
        "**Linear model** has large coefficients due to overfitting. <br>\n",
        "**Lasso model** some weights set to zero removing unimportat features, makes the model simpler. <br>\n",
        "**Ridge model** all weights are small but not zero, It reduces large weights more than small weights. <br><br>\n",
        "\n",
        "\n"
      ]
    },
    {
      "cell_type": "markdown",
      "id": "670d7fc9-9c5a-4c69-84af-80f77afcd285",
      "metadata": {
        "id": "670d7fc9-9c5a-4c69-84af-80f77afcd285"
      },
      "source": [
        "### Question 5\n",
        "Write a function to calculate the total mean square error.\n",
        "$$\n",
        "MSE = E[ (ytrue  - yhat)^2 ]\n",
        "$$\n",
        "\n",
        "**Then compare your results with scikit-learn implementation of mean square error on the example provided below:**"
      ]
    },
    {
      "cell_type": "code",
      "execution_count": 16,
      "id": "0a75daf6",
      "metadata": {
        "id": "0a75daf6"
      },
      "outputs": [],
      "source": [
        "y_true = [2, -0.8, 1, 7.5]\n",
        "y_pred = [2.5, 0.0, 1, 8]"
      ]
    },
    {
      "cell_type": "code",
      "execution_count": 17,
      "id": "7533c60a-ddb7-4603-93be-0a5a6d528899",
      "metadata": {
        "id": "7533c60a-ddb7-4603-93be-0a5a6d528899"
      },
      "outputs": [],
      "source": [
        "def mse(y_true, y_pred):\n",
        "\n",
        "    y_true = np.array(y_true)\n",
        "    y_pred = np.array(y_pred)\n",
        "\n",
        "    error = np.mean((y_true - y_pred)**2)\n",
        "\n",
        "    return error"
      ]
    },
    {
      "cell_type": "code",
      "execution_count": 18,
      "id": "e6d97dbf",
      "metadata": {
        "colab": {
          "base_uri": "https://localhost:8080/"
        },
        "id": "e6d97dbf",
        "outputId": "b55f8c63-6a25-422f-a80c-d04f048c0a63"
      },
      "outputs": [
        {
          "output_type": "stream",
          "name": "stdout",
          "text": [
            "My Solution: 0.28500000000000003\n",
            "Scikit-learn Solution: 0.28500000000000003\n"
          ]
        }
      ],
      "source": [
        "from sklearn.metrics import mean_squared_error\n",
        "\n",
        "my_mse = mse(y_true, y_pred)\n",
        "print(f\"My Solution: {my_mse}\")\n",
        "\n",
        "scikit_learn_mse = mean_squared_error(y_true, y_pred)\n",
        "print(f\"Scikit-learn Solution: {scikit_learn_mse}\")"
      ]
    },
    {
      "cell_type": "markdown",
      "id": "7edf7ed9-d215-4e80-be58-cc78711aa4cb",
      "metadata": {
        "id": "7edf7ed9-d215-4e80-be58-cc78711aa4cb",
        "tags": []
      },
      "source": [
        "### Question 6\n",
        "Implement a linear regression class **FROM SCRATCH** that can be used by one of the following three options (according to user's choice):\n",
        "1. Ordinary Linear Regression Class\n",
        "2. Implement Ridge Regression Class\n",
        "3. Implement Lasso Regression Class\n",
        "\n",
        "- Can use numpy\n",
        "- Complete the missing code"
      ]
    },
    {
      "cell_type": "markdown",
      "id": "f4339193",
      "metadata": {
        "id": "f4339193"
      },
      "source": [
        "**Help**\n",
        "\n",
        "The gradient descent algorithm is:\n",
        "\n",
        "$$\\begin{align*}& \\text{repeat until convergence:} \\; \\lbrace \\newline \\; & \\phantom {0000} b := b -  \\alpha \\frac{\\partial J(w,b)}{\\partial b} \\newline       \\; & \\phantom {0000} w_k := w_k -  \\alpha \\frac{\\partial J(w,b)}{\\partial w_k} \\tag{1}  \\; &\n",
        "\\newline & \\rbrace\\end{align*}$$\n",
        "\n",
        "where, parameters $w, b$ are both updated simultaniously and where for **LINEAR REGRESSION**\n",
        "$$\n",
        "\\frac{\\partial J(w,b)}{\\partial b}  = \\frac{1}{n} \\sum\\limits_{i = 0}^{n-1} (f_{w,b}(x^{(i)}) - y^{(i)}) \\tag{2}\n",
        "$$\n",
        "$$\n",
        "\\frac{\\partial J(w,b)}{\\partial w_k}  = \\frac{1}{n} \\sum\\limits_{i = 0}^{n-1} (f_{w,b}(x^{(i)}) -y^{(i)})x^{(i)}_k \\tag{3}\n",
        "$$\n",
        "    \n",
        "*  $f_{w,b}(x^{(i)})$ is the model's prediction, while $y^{(i)}$, is the target value\n",
        "\n",
        "\n",
        "You will implement a function called `update_weights` which calculates $\\frac{\\partial J(w)}{\\partial w_k}$, $\\frac{\\partial J(w)}{\\partial b}$ for each type of regression --> different gradients for each type\n",
        "\n",
        "\n",
        "For example for **Linear Regression**, the `updat_weights` function should:\n",
        "\n",
        "* Iterate over the training examples, and for each example, compute:\n",
        "    * The prediction of the model for that example\n",
        "    $$\n",
        "    f_{wb}(x^{(i)}) =  \\sum_{k=1}^{k=m}w_kx^{(i)} + b\n",
        "    $$\n",
        "   \n",
        "    * Loop over features $k$ and calculate the gradient for each parameter $w_k$\n",
        "        $$\n",
        "        \\frac{\\partial J(w,b)}{\\partial w_k}^{(i)}  =  (f_{w,b}(x^{(i)}) -y^{(i)})x^{(i)}_k\n",
        "        $$\n",
        "    * Then for $b$ from that example\n",
        "        $$\n",
        "        \\frac{\\partial J(w,b)}{\\partial b}^{(i)}  =  (f_{w,b}(x^{(i)}) - y^{(i)})\n",
        "        $$\n",
        "\n",
        "* Calculate the total gradient update from all the examples for each parameter $w_k$ and $b$\n",
        "    $$\n",
        "    \\frac{\\partial J(w,b)}{\\partial b}  = \\frac{1}{n} \\sum\\limits_{i = 0}^{n-1} \\frac{\\partial J(w,b)}{\\partial b}^{(i)}\n",
        "    $$\n",
        "    \n",
        "    $$\n",
        "    \\frac{\\partial J(w,b)}{\\partial w_k}  = \\frac{1}{n} \\sum\\limits_{i = 0}^{n-1} \\frac{\\partial J(w,b)}{\\partial w_k}^{(i)}\n",
        "    $$\n",
        "  * Here, $n$ is the number of training examples and $\\sum$ is the summation operator\n",
        "\n",
        "* Then update weights"
      ]
    },
    {
      "cell_type": "code",
      "execution_count": 124,
      "id": "42fe1d16-63ab-45b9-8c96-b08aa5509720",
      "metadata": {
        "id": "42fe1d16-63ab-45b9-8c96-b08aa5509720"
      },
      "outputs": [],
      "source": [
        "import numpy as np\n",
        "\n",
        "# Linear Regression\n",
        "\n",
        "class LinearRegression() :\n",
        "\n",
        "    def __init__( self, learning_rate, iterations, type=\"linear\" , reg_parameter = 0) :\n",
        "        \"\"\"\n",
        "        This function initializes the object instance with arguments learning_rate, number of iterations, and whether to use linear or ridge or lasso\n",
        "        reg_paramter is lambda for regularized regression\"\"\"\n",
        "\n",
        "        self.learning_rate = learning_rate\n",
        "\n",
        "        self.iterations = iterations\n",
        "\n",
        "        self.type = type\n",
        "\n",
        "        self.lam = reg_parameter\n",
        "\n",
        "    def fit( self, X, Y ) :\n",
        "        self.m, self.n = X.shape\n",
        "\n",
        "        # weight initialization, initialize w to random numbers from a uniform distribution over [0,1(\n",
        "        self.W = np.random.randint(0, 1, self.n)\n",
        "\n",
        "        # intialize b to 0\n",
        "\n",
        "        self.b = 0\n",
        "\n",
        "\n",
        "        self.X = X\n",
        "\n",
        "\n",
        "        self.Y = Y\n",
        "\n",
        "        # gradient descent learning\n",
        "\n",
        "        for i in range( self.iterations ) :\n",
        "\n",
        "            self.update_weights()\n",
        "\n",
        "        return self\n",
        "\n",
        "    def update_weights( self ) :\n",
        "\n",
        "        Y_pred = self.predict( self.X )\n",
        "\n",
        "        # calculate gradients\n",
        "        if self.type == 'linear':\n",
        "            dW = (1 / self.m) * np.dot(self.X.T, (Y_pred - self.Y))\n",
        "\n",
        "            db = (1 / self.m) * np.sum(Y_pred - self.Y)\n",
        "\n",
        "        elif self.type == 'ridge':\n",
        "            dW = (1 / self.m) * (np.dot(self.X.T, (Y_pred - self.Y)) + 2 * self.lam * self.W)\n",
        "\n",
        "            db = (1 / self.m) * np.sum(Y_pred - self.Y)\n",
        "        else:\n",
        "            dW = (1 / self.m) * (np.dot(self.X.T, (Y_pred - self.Y))  + self.lam * np.sign(self.W))\n",
        "\n",
        "            db = (1 / self.m) * np.sum(Y_pred - self.Y)\n",
        "\n",
        "        # update weights\n",
        "        self.W = self.W - self.learning_rate * dW\n",
        "\n",
        "        self.b = self.b - self.learning_rate * db\n",
        "\n",
        "        # you don't need to return w and b\n",
        "        return self\n",
        "\n",
        "    def predict( self, X ) :\n",
        "        if self.type == 'linear':\n",
        "            y_pred = np.dot(X,self.W) + self.b\n",
        "        elif self.type == 'ridge':\n",
        "            y_pred = np.dot(X,self.W) + self.b\n",
        "\n",
        "        else:\n",
        "            y_pred = np.dot(X,self.W) + self.b\n",
        "        return y_pred"
      ]
    },
    {
      "cell_type": "markdown",
      "id": "546fec17",
      "metadata": {
        "id": "546fec17"
      },
      "source": [
        "- **Train your 3 models on the simulated train data provided at the beginning of the assignment**\n",
        "- use alpha = 0.02, learning_rate = 0.01, iterations = 600"
      ]
    },
    {
      "cell_type": "code",
      "execution_count": 125,
      "id": "5d3d6880",
      "metadata": {
        "colab": {
          "base_uri": "https://localhost:8080/"
        },
        "id": "5d3d6880",
        "outputId": "7afcf52c-7596-46dc-cfbd-40d57a5889b0"
      },
      "outputs": [
        {
          "output_type": "execute_result",
          "data": {
            "text/plain": [
              "<__main__.LinearRegression at 0x7df7dc3ee650>"
            ]
          },
          "metadata": {},
          "execution_count": 125
        }
      ],
      "source": [
        "# your answer here\n",
        "model_linear = LinearRegression(learning_rate=0.01, iterations=600,type=\"linear\", reg_parameter=0.02)\n",
        "model_linear.fit(X_train.reshape(-1, 1),y_train)\n",
        "\n",
        "model_ridge = LinearRegression(learning_rate=0.01, iterations=600,type=\"ridge\", reg_parameter=0.02)\n",
        "model_ridge.fit(X_train.reshape(-1, 1),y_train)\n",
        "\n",
        "model_lasso = LinearRegression(learning_rate=0.01, iterations=600,type=\"lasso\", reg_parameter=0.02)\n",
        "model_lasso.fit(X_train.reshape(-1, 1),y_train)"
      ]
    },
    {
      "cell_type": "markdown",
      "id": "6e03ff93",
      "metadata": {
        "id": "6e03ff93"
      },
      "source": [
        "- **Test your 3 models on the simulated test data provided at the beginning of the assignment**\n",
        "- **Print the MSE for each model**"
      ]
    },
    {
      "cell_type": "code",
      "execution_count": 126,
      "id": "249907b7",
      "metadata": {
        "colab": {
          "base_uri": "https://localhost:8080/"
        },
        "id": "249907b7",
        "outputId": "0101eecd-bd44-4634-f2ba-8377614f328b"
      },
      "outputs": [
        {
          "output_type": "stream",
          "name": "stdout",
          "text": [
            "MSE Linear Model: 0.6065165426601554\n",
            "MSE Ridge Model: 0.6064602049734344\n",
            "MSE Lasso Model: 0.6063474482552035\n",
            "\n",
            "R2 score Linear Model: -0.4508773511588118\n",
            "R2 score Ridge Model: -0.45074258307264925\n",
            "R2 score Lasso Model: -0.450472852311548\n"
          ]
        }
      ],
      "source": [
        "# your answer here\n",
        "y_pred_linear = model_linear.predict(X_test.reshape(-1,1))\n",
        "print(f\"MSE Linear Model: {mse(y_test, y_pred_linear)}\")\n",
        "\n",
        "y_pred_ridge = model_ridge.predict(X_test.reshape(-1,1))\n",
        "print(f\"MSE Ridge Model: {mse(y_test, y_pred_ridge)}\")\n",
        "\n",
        "y_pred_lasso = model_lasso.predict(X_test.reshape(-1,1))\n",
        "print(f\"MSE Lasso Model: {mse(y_test, y_pred_lasso)}\")\n",
        "print(\"\")\n",
        "\n",
        "print(f\"R2 score Linear Model: {r2_score(y_test, y_pred_linear)}\")\n",
        "print(f\"R2 score Ridge Model: {r2_score(y_test, y_pred_ridge)}\")\n",
        "print(f\"R2 score Lasso Model: {r2_score(y_test, y_pred_lasso)}\")\n"
      ]
    }
  ],
  "metadata": {
    "colab": {
      "provenance": []
    },
    "kernelspec": {
      "display_name": "Python 3 (ipykernel)",
      "language": "python",
      "name": "python3"
    },
    "language_info": {
      "codemirror_mode": {
        "name": "ipython",
        "version": 3
      },
      "file_extension": ".py",
      "mimetype": "text/x-python",
      "name": "python",
      "nbconvert_exporter": "python",
      "pygments_lexer": "ipython3",
      "version": "3.8.13"
    }
  },
  "nbformat": 4,
  "nbformat_minor": 5
}